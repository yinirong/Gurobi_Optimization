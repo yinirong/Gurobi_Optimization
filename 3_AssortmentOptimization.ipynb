{
 "cells": [
  {
   "cell_type": "markdown",
   "id": "1fdb71cb-59b5-4de0-a5d5-b1b01967715f",
   "metadata": {},
   "source": [
    "# Assortment Optimization\n",
    "\n",
    "This was an assignment from my Operations Analytics course. The use case here is Designing a Sushi Menu."
   ]
  },
  {
   "cell_type": "code",
   "execution_count": 1,
   "id": "af4cb99d-3426-4c4f-bf12-112281e73801",
   "metadata": {},
   "outputs": [],
   "source": [
    "from gurobipy import *\n",
    "import numpy as np\n",
    "import pandas as pd"
   ]
  },
  {
   "cell_type": "markdown",
   "id": "8ee3b87e-eeff-4487-96e3-decb04745a02",
   "metadata": {},
   "source": [
    "## Designing a Sushi Menu"
   ]
  },
  {
   "cell_type": "markdown",
   "id": "bbd8fa11-11bb-4ea7-a812-e376eb835f37",
   "metadata": {},
   "source": [
    "### Part 1: Understanding the data"
   ]
  },
  {
   "cell_type": "markdown",
   "id": "6f0aedd3-9f7e-46f6-b5f4-6ff989610d5a",
   "metadata": {},
   "source": [
    "**(a)** The five most preferred sushis for customer 1:\n",
    "1. 38 Negi Toro\n",
    "2. 4 Ira\n",
    "3. 3 Maguro\n",
    "4. 16 Samon\n",
    "5. 44 Inari"
   ]
  },
  {
   "cell_type": "markdown",
   "id": "80462b50-6186-4f39-ac2e-3e6f5b9e32c9",
   "metadata": {},
   "source": [
    "**(b)** The five least preferred sushis for customer 2:\n",
    "1. 94 Karasumi\n",
    "2. 50 Komochi Konbu\n",
    "3. 93 Kyabia\n",
    "4. 15 Awabi\n",
    "5. 17 Kazunoko"
   ]
  },
  {
   "cell_type": "markdown",
   "id": "43ec2063-eca7-430e-9d26-87074a68a194",
   "metadata": {},
   "source": [
    "**(c)** The five with the best average rank over the 500 customers:\n",
    "1. 38 Negi Toro\n",
    "2. 3  Maguro\n",
    "3. 80 Kurumaebi\n",
    "4. 62 Negi Toro Maki\n",
    "5. 1  Ebi"
   ]
  },
  {
   "cell_type": "markdown",
   "id": "34299763-0396-4817-a977-e857525a530b",
   "metadata": {},
   "source": [
    "**(d)** The five with the worst average rank over the 500 customers:\n",
    "1. 93 Kyabia\n",
    "2. 87 Himo Kyu Maki\n",
    "3. 94 Karasumi\n",
    "4. 70 Okura\n",
    "5. 98 Namako"
   ]
  },
  {
   "cell_type": "markdown",
   "id": "5a22919c-73b6-41f7-9bf7-95b8dfce039a",
   "metadata": {},
   "source": [
    "**(e)** The top five most controversial sushis:\n",
    "1. 75 Shiso Maki\n",
    "2. 39 Nattou Maki\n",
    "3. 5 Uni\n",
    "4. 30 Kappa Maki\n",
    "5. 15 Awabi"
   ]
  },
  {
   "cell_type": "code",
   "execution_count": 16,
   "id": "b242ff78-7d50-4d3e-ad61-53e6b0d804bc",
   "metadata": {
    "tags": []
   },
   "outputs": [
    {
     "name": "stdout",
     "output_type": "stream",
     "text": [
      "Shape:  (500, 100)\n"
     ]
    }
   ],
   "source": [
    "# Load the sushi utilities matrix\n",
    "sushi_utilities_matrix = pd.read_csv(\"sushi_utilities_mat.csv\", header = None)\n",
    "sushi_utilities_matrix = np.asarray(sushi_utilities_matrix)\n",
    "\n",
    "# Get the number of sushi types\n",
    "nSushi = sushi_utilities_matrix.shape[1]\n",
    "\n",
    "print(\"Shape: \", sushi_utilities_matrix.shape)\n",
    "\n",
    "# Check sushi 1 \n",
    "# print(\"Sushi 1 utilities: \")\n",
    "# print(sushi_utilities_matrix[:,0])\n",
    "\n",
    "# Check customer 1\n",
    "# print(\"Customer 1 utilities: \")\n",
    "# print(sushi_utilities_matrix[0,:])"
   ]
  },
  {
   "cell_type": "code",
   "execution_count": 17,
   "id": "21c4e8fd-1457-4e30-b4ad-7f7de90c993c",
   "metadata": {},
   "outputs": [],
   "source": [
    "# Load the sushi descriptions\n",
    "sushi_descriptions = pd.read_csv(\"sushi_descriptions.csv\", header = None)"
   ]
  },
  {
   "cell_type": "code",
   "execution_count": 18,
   "id": "4efb37fd-f312-40b2-b9c8-babadb67c175",
   "metadata": {},
   "outputs": [
    {
     "name": "stdout",
     "output_type": "stream",
     "text": [
      "0                                                   38\n",
      "1    negi_toro (fatty flesh of tuna minced to a pas...\n",
      "Name: 37, dtype: object\n",
      "0              4\n",
      "1    ika (squid)\n",
      "Name: 3, dtype: object\n",
      "0                3\n",
      "1    maguro (tuna)\n",
      "Name: 2, dtype: object\n",
      "0                16\n",
      "1    samon (salmon)\n",
      "Name: 15, dtype: object\n",
      "0                            44\n",
      "1    inari (fried tofu wrapper)\n",
      "Name: 43, dtype: object\n"
     ]
    }
   ],
   "source": [
    "customer_1_utilities = np.argsort(sushi_utilities_matrix[0,:])\n",
    "customer_1_utilities = np.flip(customer_1_utilities)\n",
    "for i in customer_1_utilities[:5]:\n",
    "    print(sushi_descriptions.iloc[i])"
   ]
  },
  {
   "cell_type": "code",
   "execution_count": 19,
   "id": "a193c907-5ae1-4728-b1a9-1665a5e1bfb8",
   "metadata": {},
   "outputs": [
    {
     "name": "stdout",
     "output_type": "stream",
     "text": [
      "0                             94\n",
      "1    karasumi (dried mullet roe)\n",
      "Name: 93, dtype: object\n",
      "0                                          50\n",
      "1    komochi_konbu (herring roe & sea tangle)\n",
      "Name: 49, dtype: object\n",
      "0                 93\n",
      "1    kyabia (caviar)\n",
      "Name: 92, dtype: object\n",
      "0                 15\n",
      "1    awabi (abalone)\n",
      "Name: 14, dtype: object\n",
      "0                        17\n",
      "1    kazunoko (herring roe)\n",
      "Name: 16, dtype: object\n"
     ]
    }
   ],
   "source": [
    "customer_2_utilities = np.argsort(sushi_utilities_matrix[1,:])\n",
    "for i in customer_2_utilities[:5]:\n",
    "    print(sushi_descriptions.iloc[i])"
   ]
  },
  {
   "cell_type": "code",
   "execution_count": 20,
   "id": "922561e8-250e-43da-9553-24decd125f09",
   "metadata": {},
   "outputs": [],
   "source": [
    "# Test\n",
    "\n",
    "temp = np.array([4.8, 2.3, 5.3, 3.9, 1.4, 5.1])\n",
    "# temp contains the (hypothetical) utilities of 6 products\n",
    "# Apply argsort once:\n",
    "temp2 = np.argsort(temp) # What does temp2 contain?\n",
    "temp3 = np.argsort(temp2) # What does temp3 contain?"
   ]
  },
  {
   "cell_type": "code",
   "execution_count": 21,
   "id": "d0794c4a-7b01-48ae-80ef-60fcbcc2d533",
   "metadata": {},
   "outputs": [
    {
     "data": {
      "text/plain": [
       "array([4, 1, 3, 0, 5, 2])"
      ]
     },
     "execution_count": 21,
     "metadata": {},
     "output_type": "execute_result"
    }
   ],
   "source": [
    "temp2  # sort products from low to high utility, display their indices"
   ]
  },
  {
   "cell_type": "code",
   "execution_count": 22,
   "id": "9518f445-6438-459e-8989-12b6af3670b4",
   "metadata": {},
   "outputs": [
    {
     "data": {
      "text/plain": [
       "array([3, 1, 5, 2, 0, 4])"
      ]
     },
     "execution_count": 22,
     "metadata": {},
     "output_type": "execute_result"
    }
   ],
   "source": [
    "temp3 # sort indices from low to high, display the product utility ranks"
   ]
  },
  {
   "cell_type": "code",
   "execution_count": 23,
   "id": "8a6fe592-bb76-42e5-a3a1-4d40563210e7",
   "metadata": {},
   "outputs": [],
   "source": [
    "# Store sushi ranks by customer\n",
    "\n",
    "nCustomers = sushi_utilities_matrix.shape[0]\n",
    "sushi_ranks_list = [[] for x in range(nSushi)]\n",
    "\n",
    "for cust in range(nCustomers):   # loop through 500 customers \n",
    "    customer_utilities = np.argsort(sushi_utilities_matrix[cust,:])  # sort the 100 sushi for each customer from low to high utility\n",
    "    sushi_ranks = np.argsort(customer_utilities)  # the higher the rank, more preferred the sushi\n",
    "    for s in range(nSushi):\n",
    "        sushi_ranks_list[s].append(sushi_ranks[s])"
   ]
  },
  {
   "cell_type": "code",
   "execution_count": 24,
   "id": "6c318755-0381-4db1-afb0-58855cc28ed0",
   "metadata": {
    "scrolled": true,
    "tags": []
   },
   "outputs": [],
   "source": [
    "# Compute average ranks for sushi\n",
    "\n",
    "average_ranks = []\n",
    "for ranks in sushi_ranks_list:\n",
    "    average_rank = sum(ranks)/len(ranks)\n",
    "    average_ranks.append(average_rank)"
   ]
  },
  {
   "cell_type": "code",
   "execution_count": 25,
   "id": "85fedc13-5481-41aa-a1ef-b4c2caf8998d",
   "metadata": {},
   "outputs": [
    {
     "name": "stdout",
     "output_type": "stream",
     "text": [
      "0                                                   38\n",
      "1    negi_toro (fatty flesh of tuna minced to a pas...\n",
      "Name: 37, dtype: object\n",
      "0                3\n",
      "1    maguro (tuna)\n",
      "Name: 2, dtype: object\n",
      "0                   80\n",
      "1    kurumaebi (prawn)\n",
      "Name: 79, dtype: object\n",
      "0                                      62\n",
      "1    negi_toro_maki (roll style of no.37)\n",
      "Name: 61, dtype: object\n",
      "0               1\n",
      "1    ebi (shrimp)\n",
      "Name: 0, dtype: object\n"
     ]
    }
   ],
   "source": [
    "# Sort and find top 5\n",
    "\n",
    "sorted_sushi_list = np.argsort(average_ranks)\n",
    "reversed_sushi_list = np.flip(sorted_sushi_list)\n",
    "top_5_sushi_list = reversed_sushi_list[:5]\n",
    "\n",
    "for i in top_5_sushi_list:\n",
    "    print(sushi_descriptions.iloc[i])"
   ]
  },
  {
   "cell_type": "code",
   "execution_count": 26,
   "id": "5b60d1ed-05ac-4d87-9200-a69e03d32141",
   "metadata": {},
   "outputs": [
    {
     "name": "stdout",
     "output_type": "stream",
     "text": [
      "0                 93\n",
      "1    kyabia (caviar)\n",
      "Name: 92, dtype: object\n",
      "0                                              87\n",
      "1    himo_kyu_maki (part of clam & cucumber roll)\n",
      "Name: 86, dtype: object\n",
      "0                             94\n",
      "1    karasumi (dried mullet roe)\n",
      "Name: 93, dtype: object\n",
      "0               70\n",
      "1    okura (gumbo)\n",
      "Name: 69, dtype: object\n",
      "0                       98\n",
      "1    namako (sea cucumber)\n",
      "Name: 97, dtype: object\n"
     ]
    }
   ],
   "source": [
    "# Sort and find worst 5\n",
    "\n",
    "worst_5_sushi_list = sorted_sushi_list[:5]\n",
    "worst_5_sushi_list\n",
    "\n",
    "for i in worst_5_sushi_list:\n",
    "    print(sushi_descriptions.iloc[i])"
   ]
  },
  {
   "cell_type": "code",
   "execution_count": 27,
   "id": "20c6a2c2-e297-4781-ab10-baf77c3c6673",
   "metadata": {},
   "outputs": [],
   "source": [
    "# Compute standard deviation\n",
    "\n",
    "std_ranks = []\n",
    "for ranks in sushi_ranks_list:\n",
    "    mean = sum(ranks)/len(ranks)\n",
    "    variance = sum([((x - mean) ** 2) for x in ranks]) / len(ranks)\n",
    "    std = variance ** 0.5\n",
    "    std_ranks.append(std)"
   ]
  },
  {
   "cell_type": "code",
   "execution_count": 28,
   "id": "ac253bff-5aed-4993-873b-74c74ba2480e",
   "metadata": {},
   "outputs": [
    {
     "name": "stdout",
     "output_type": "stream",
     "text": [
      "0                                75\n",
      "1    shiso_maki (perilla leaf roll)\n",
      "Name: 74, dtype: object\n",
      "0                                   39\n",
      "1    nattou_maki (fermented bean roll)\n",
      "Name: 38, dtype: object\n",
      "0                   5\n",
      "1    uni (sea urchin)\n",
      "Name: 4, dtype: object\n",
      "0                            30\n",
      "1    kappa_maki (cucumber roll)\n",
      "Name: 29, dtype: object\n",
      "0                 15\n",
      "1    awabi (abalone)\n",
      "Name: 14, dtype: object\n"
     ]
    }
   ],
   "source": [
    "# Find controversial 5\n",
    "\n",
    "controversial_sushi_list = np.argsort(std_ranks)\n",
    "top_5_controversial_sushi_list = controversial_sushi_list[-5:] \n",
    "\n",
    "for i in top_5_controversial_sushi_list:\n",
    "    print(sushi_descriptions.iloc[i])"
   ]
  },
  {
   "cell_type": "markdown",
   "id": "031b7959-09ea-4e80-82c8-f3a52d3cd3c6",
   "metadata": {},
   "source": [
    "### Part 2: Common-sense solutions"
   ]
  },
  {
   "cell_type": "markdown",
   "id": "9ee54094-c738-427a-892b-0f2f8c84e16a",
   "metadata": {},
   "source": [
    "**(a)** Suppose that we simply offer all sushi products, that is, we set $ S = \\{1, 2, ... , n\\} $. The expected revenue is **$ 21.51** per customer."
   ]
  },
  {
   "cell_type": "markdown",
   "id": "defcea75-ce98-4f8f-b8af-afa776b07df5",
   "metadata": {},
   "source": [
    "**(b)** The ten highest revenue sushis:\n",
    "1. 42 Botanebi\n",
    "2. 21 Hirame\n",
    "3. 47 Suzuki\n",
    "4. 20 Chu Toro\n",
    "5. 80 Kurumaebi\n",
    "6. 5 Uni\n",
    "7. 13 Akagai\n",
    "8. 48 Tarabagani\n",
    "9. 15 Awabi\n",
    "10. 9 Toro\n",
    "\n",
    "The expected revenue is **$ 25.64** per customer."
   ]
  },
  {
   "cell_type": "markdown",
   "id": "07928fb1-338a-4cb2-af9f-23c2543cc29d",
   "metadata": {},
   "source": [
    "**(c)** If you offer all options to customers, customers are free to whichever one they like the best and will certainly choose the one that brings them the greatest utilities. Hence, offering all options brings in the same profit as if offering only the options that are most preferred.\n",
    "\n",
    "The expected revenue in this case is **$ 21.51** per customer."
   ]
  },
  {
   "cell_type": "markdown",
   "id": "6a2c3fca-fa5a-48de-8c03-1c4d0ac9237c",
   "metadata": {},
   "source": [
    "**(d)** Offering all options or those most preferred by everyone in (a) may include items that are priced relatively low. This set offers great accessibility for customers and allows them to choose whichever they like the best. In other words, it does not force customers to choose their next preferred options that are priced relatively higher. Thus, the expected revenue from this strategy is not optimal.\n",
    "\n",
    "**(e)** Offering the ten options that are priced the highest in (b) may include items that could turn away customers. Customers may not have a high utility on those high-priced items, so they end up choosing to not purchase. But if including some options with relatively lower priced, they would purchase bringing in revenue."
   ]
  },
  {
   "cell_type": "code",
   "execution_count": 29,
   "id": "07c683fe-b520-4f26-8f56-6043d9a4b564",
   "metadata": {},
   "outputs": [],
   "source": [
    "# Load the sushi price\n",
    "\n",
    "sushi_info = pd.read_csv(\"sushi_info.csv\", header = None)\n",
    "prices = np.asarray(sushi_info.iloc[:,2])"
   ]
  },
  {
   "cell_type": "code",
   "execution_count": 30,
   "id": "67867d81-7d53-4a8f-9517-6d0cf46509e8",
   "metadata": {},
   "outputs": [],
   "source": [
    "# To get the no-purchase utilities, take the max along the product dimension\n",
    "nopurchase_utilities = np.ones(nCustomers) * 3\n",
    "\n",
    "# Finally, let us tack these no-purchase utilities to the main utility matrix\n",
    "utilities_mat = np.concatenate( (sushi_utilities_matrix, nopurchase_utilities[:,None]) , axis = 1)"
   ]
  },
  {
   "cell_type": "code",
   "execution_count": 31,
   "id": "0f462d47-3e8c-4b08-aeec-7407bc71917f",
   "metadata": {},
   "outputs": [
    {
     "name": "stdout",
     "output_type": "stream",
     "text": [
      "(500, 101)\n",
      "3.0\n",
      "[2.14576315 2.03017328 1.36101624 1.6240616  1.54830768 3.        ]\n"
     ]
    }
   ],
   "source": [
    "# Check that this worked\n",
    "print(utilities_mat.shape)\n",
    "print(nopurchase_utilities[0])\n",
    "print(utilities_mat[0, 95:101])"
   ]
  },
  {
   "cell_type": "code",
   "execution_count": 32,
   "id": "d18ea29b-0f04-4fca-8078-48b3fc1644bb",
   "metadata": {
    "tags": []
   },
   "outputs": [
    {
     "name": "stdout",
     "output_type": "stream",
     "text": [
      "Expected revenue:  10.708880000000008\n",
      "Choice probabilities:  {0: 0.7280000000000005, 100: 0.2720000000000002}\n",
      "\n",
      "Expected revenue:  13.91756000000001\n",
      "Choice probabilities:  {1: 0.06600000000000004, 2: 0.5660000000000004, 3: 0.09400000000000007, 4: 0.11800000000000009, 5: 0.012, 100: 0.1440000000000001}\n"
     ]
    }
   ],
   "source": [
    "# Function to compute expected revenue\n",
    "# S - the sushi line, represented as an array of integers\n",
    "# Precondition: S is an array of integers containing only numbers between 0 and 99, with no repetitions\n",
    "\n",
    "def expected_revenue(S):\n",
    "    # Add the no-purchase option:\n",
    "    # The products are numbered from 0 to 99. Index 100 ( = nProducts) will correspond to the no-purchase option\n",
    "    S2 = np.append(S, nSushi)\n",
    "    \n",
    "    choice_probabilities = {}\n",
    "    for i in S2:\n",
    "        choice_probabilities[i] = 0.0;\n",
    "    \n",
    "    for cust in range(nCustomers):\n",
    "        ind = np.argmax( utilities_mat[ cust, S2])  # find the choice with the highest utility for each customer\n",
    "        choice_probabilities[ S2[ind] ] += 1.0/nCustomers\n",
    "\n",
    "    exp_revenue = sum( [choice_probabilities[i] * prices[i] for i in S])\n",
    "        \n",
    "    return exp_revenue, choice_probabilities\n",
    "\n",
    "\n",
    "# Let's see one simple example -- we only offer product 1\n",
    "exp_revenue, choice_probabilities = expected_revenue( [0] )\n",
    "print(\"Expected revenue: \", exp_revenue)\n",
    "print(\"Choice probabilities: \", choice_probabilities)\n",
    "print()\n",
    "\n",
    "# Another example: we offer 1,2,3,4,5\n",
    "exp_revenue, choice_probabilities = expected_revenue( [1, 2, 3, 4, 5] )\n",
    "print(\"Expected revenue: \", exp_revenue)\n",
    "print(\"Choice probabilities: \", choice_probabilities)"
   ]
  },
  {
   "cell_type": "code",
   "execution_count": 33,
   "id": "0b33adc8-4571-4166-9505-fb45eae90985",
   "metadata": {},
   "outputs": [
    {
     "name": "stdout",
     "output_type": "stream",
     "text": [
      "Expected per-customer revenue (offer everything):  21.509720000000016\n"
     ]
    }
   ],
   "source": [
    "# Offer all\n",
    "\n",
    "S_all = np.array([i for i in range(nSushi)])\n",
    "exp_revenue_all, choice_probabilities_all = expected_revenue( S_all )\n",
    "print(\"Expected per-customer revenue (offer everything): \", exp_revenue_all)"
   ]
  },
  {
   "cell_type": "code",
   "execution_count": 34,
   "id": "72c43d10-3a59-404b-a5e0-8e29a7878c12",
   "metadata": {
    "tags": []
   },
   "outputs": [
    {
     "name": "stdout",
     "output_type": "stream",
     "text": [
      "0                         42\n",
      "1    botanebi (BOTAN shrimp)\n",
      "Name: 41, dtype: object\n",
      "0                   21\n",
      "1    hirame (flatfish)\n",
      "Name: 20, dtype: object\n",
      "0                   47\n",
      "1    suzuki (sea bass)\n",
      "Name: 46, dtype: object\n",
      "0                              20\n",
      "1    chu_toro (mildly_fatty tuna)\n",
      "Name: 19, dtype: object\n",
      "0                   80\n",
      "1    kurumaebi (prawn)\n",
      "Name: 79, dtype: object\n",
      "0                   5\n",
      "1    uni (sea urchin)\n",
      "Name: 4, dtype: object\n",
      "0                    13\n",
      "1    akagai (ark shell)\n",
      "Name: 12, dtype: object\n",
      "0                        48\n",
      "1    tarabagani (king crab)\n",
      "Name: 47, dtype: object\n",
      "0                 15\n",
      "1    awabi (abalone)\n",
      "Name: 14, dtype: object\n",
      "0                    9\n",
      "1    toro (fatty tuna)\n",
      "Name: 8, dtype: object\n"
     ]
    }
   ],
   "source": [
    "# Top 10 priced\n",
    "\n",
    "for i in np.argsort(prices)[-10:]:\n",
    "    print(sushi_descriptions.iloc[i])"
   ]
  },
  {
   "cell_type": "code",
   "execution_count": 35,
   "id": "5738fec3-f480-427d-9ec0-df63f840ffc8",
   "metadata": {},
   "outputs": [
    {
     "name": "stdout",
     "output_type": "stream",
     "text": [
      "Expected per-customer revenue (offer ten highest price):  25.639440000000018\n"
     ]
    }
   ],
   "source": [
    "# Offer top 10 priced\n",
    "\n",
    "S_10highestprice = np.argsort(prices)[-10:]\n",
    "exp_revenue_10highestprice, choice_probabilities_10highestprice = expected_revenue( S_10highestprice )\n",
    "print(\"Expected per-customer revenue (offer ten highest price): \", exp_revenue_10highestprice)"
   ]
  },
  {
   "cell_type": "code",
   "execution_count": 36,
   "id": "99a13c8e-4165-409f-8edb-08f074260d89",
   "metadata": {
    "tags": []
   },
   "outputs": [
    {
     "name": "stdout",
     "output_type": "stream",
     "text": [
      "[ 0  1  2  3  4  5  6  7  8  9 10 20 26 29 37 43 57 61 71 73 79]\n",
      "Expected per-customer revenue (offer most preferred):  21.509720000000016\n"
     ]
    }
   ],
   "source": [
    "# Use numpy's function argmax to obtain the element with the highest value\n",
    "# Note: 0:nProducts will leave out column nProducts (= 100, which is where we are storing the no-purchase option)\n",
    "\n",
    "# Offer most preferred\n",
    "\n",
    "S_mostpref = np.argmax(utilities_mat[:, 0:nSushi], axis = 1)\n",
    "\n",
    "S_mostpref = np.unique(S_mostpref)\n",
    "print(S_mostpref)\n",
    "\n",
    "exp_revenue_mostpref, choice_probabilities_mostpref = expected_revenue( S_mostpref )\n",
    "print(\"Expected per-customer revenue (offer most preferred): \", exp_revenue_mostpref)"
   ]
  },
  {
   "cell_type": "markdown",
   "id": "17bc456b-7a6d-456e-8c6f-c1603624eede",
   "metadata": {},
   "source": [
    "### Part 3: An integer optimization model"
   ]
  },
  {
   "cell_type": "markdown",
   "id": "de5313b0-09bf-4229-ad76-62b29f25a6b4",
   "metadata": {},
   "source": [
    "**(a)** Explain how constraints (1b) – (1e) correctly model the preferences of each customer:\n",
    "- Constraint (1b) describes that each customer *k* can only choose one item out of *n* sushis.\n",
    "\n",
    "- Constraint (1c) and (1d) describes that if a sushi item is included in the offering set, a customer can either choose the item and get their corresponding utility, or choose not to get the item because all the items in the offering set is not at least as good as the no-purchase option. Since we want a customer to have the choice to not purchase if need be based on their utilities, the term,  $u_{k,0} (1 - x_i)$, is needed in (1c) to ensure consistency with (1d) when $x_i = 0$.\n",
    "\n",
    "- Constraint (1e) describes that if a customer chooses an item (i.e., $y_{k,i} = 1$ ), then the item has to be in the offering set (i.e., $x_i = 1$). If the item is not offered (i.e., $x_i = 0$), then the customer does not choose the item (i.e., $y_{k,i} = 0$)."
   ]
  },
  {
   "cell_type": "markdown",
   "id": "9b8bd99a-f83f-4c84-ba71-c83e89b48eaf",
   "metadata": {},
   "source": [
    "**(b)** The optimal objective value of the linear optimization relaxation of the LP problem is **$30.59**.\n",
    "\n",
    "**(c)** An expected per-customer revenue of \\\\$32 is not possible because the objective value to the relaxation problem is only around \\\\$30. This value is the upper bound of per-customer revenue from any sushi sets, and no sushi sets could obtain an expected per-customer revenue above that.\n",
    "\n",
    "**(d)** The expected per-customer revenue of the optimal assortment in the integer version of the LP problem is **$26.24**. This is 22% higher than expected revenue from offering the most preferred sushi set, and 2% higher than expected revenue from offering the 10 highest priced sushis.\n",
    "\n",
    "**(e)** The restaurant should offer this optimal set of sushis:\n",
    "1. 9 Toro\n",
    "2. 15 Awabi\n",
    "3. 19 Saba\n",
    "4. 48 Tarabagani\n",
    "5. 73 Mentaiko Maki\n",
    "6. 76 Ika Nattou\n",
    "7. 88 Tobiuo"
   ]
  },
  {
   "cell_type": "code",
   "execution_count": 37,
   "id": "24b02016-c91a-472b-adc7-0bd28dab90a5",
   "metadata": {
    "scrolled": true
   },
   "outputs": [
    {
     "name": "stdout",
     "output_type": "stream",
     "text": [
      "Creating constraints...\n",
      "Creating objective...\n",
      "Update completed\n",
      "Gurobi Optimizer version 10.0.0 build v10.0.0rc2 (mac64[x86])\n",
      "\n",
      "CPU model: Intel(R) Core(TM) i7-9750H CPU @ 2.60GHz\n",
      "Thread count: 6 physical cores, 12 logical processors, using up to 12 threads\n",
      "\n",
      "Optimize a model with 101000 rows, 50600 columns and 5301000 nonzeros\n",
      "Model fingerprint: 0x9bef12d7\n",
      "Variable types: 0 continuous, 50600 integer (50600 binary)\n",
      "Coefficient statistics:\n",
      "  Matrix range     [6e-06, 5e+00]\n",
      "  Objective range  [2e-02, 7e-02]\n",
      "  Bounds range     [1e+00, 1e+00]\n",
      "  RHS range        [1e+00, 3e+00]\n",
      "Presolve removed 2 rows and 35747 columns (presolve time = 5s) ...\n",
      "Presolve removed 73359 rows and 36639 columns (presolve time = 10s) ...\n",
      "Presolve removed 73429 rows and 36655 columns\n",
      "Presolve time: 11.81s\n",
      "Presolved: 27571 rows, 13945 columns, 403592 nonzeros\n",
      "Variable types: 0 continuous, 13945 integer (13945 binary)\n",
      "Found heuristic solution: objective 21.5232800\n",
      "Deterministic concurrent LP optimizer: primal and dual simplex\n",
      "Showing first log only...\n",
      "\n",
      "\n",
      "Root simplex log...\n",
      "\n",
      "Iteration    Objective       Primal Inf.    Dual Inf.      Time\n",
      "       0    4.8798800e+00   7.800000e+01   1.560000e+08     13s\n",
      "     211    3.2688019e-12   0.000000e+00   4.693022e+02     13s\n",
      "Concurrent spin time: 0.00s\n",
      "\n",
      "Solved with dual simplex\n",
      "\n",
      "Root relaxation: objective 2.795798e+01, 2115 iterations, 0.67 seconds (1.22 work units)\n",
      "\n",
      "    Nodes    |    Current Node    |     Objective Bounds      |     Work\n",
      " Expl Unexpl |  Obj  Depth IntInf | Incumbent    BestBd   Gap | It/Node Time\n",
      "\n",
      "     0     0   27.95798    0  748   21.52328   27.95798  29.9%     -   23s\n",
      "H    0     0                      25.5988000   27.95798  9.22%     -   23s\n",
      "H    0     0                      25.8046600   27.95798  8.34%     -   23s\n",
      "H    0     0                      25.8462000   27.95798  8.17%     -   24s\n",
      "H    0     0                      26.1193800   27.95798  7.04%     -   26s\n",
      "     0     0   27.21490    0 1050   26.11938   27.21490  4.19%     -   28s\n",
      "     0     0   27.21490    0  669   26.11938   27.21490  4.19%     -   30s\n",
      "     0     0   27.21490    0  880   26.11938   27.21490  4.19%     -   32s\n",
      "H    0     0                      26.2019200   27.21490  3.87%     -   33s\n",
      "     0     0   26.72043    0  803   26.20192   26.72043  1.98%     -   33s\n",
      "     0     0   26.46230    0  979   26.20192   26.46230  0.99%     -   33s\n",
      "H    0     0                      26.2171000   26.46230  0.94%     -   34s\n",
      "     0     0   26.36706    0  823   26.21710   26.36706  0.57%     -   34s\n",
      "     0     0   26.36679    0  822   26.21710   26.36679  0.57%     -   34s\n",
      "H    0     0                      26.2445400   26.34104  0.37%     -   35s\n",
      "     0     0   26.24626    0 1243   26.24454   26.24626  0.01%     -   35s\n",
      "\n",
      "Cutting planes:\n",
      "  Gomory: 6\n",
      "  Implied bound: 9\n",
      "  Clique: 2167\n",
      "  Zero half: 206\n",
      "  RLT: 408\n",
      "\n",
      "Explored 1 nodes (18238 simplex iterations) in 35.47 seconds (35.50 work units)\n",
      "Thread count was 12 (of 12 available processors)\n",
      "\n",
      "Solution count 8: 26.2445 26.2171 26.2019 ... 21.5233\n",
      "\n",
      "Optimal solution found (tolerance 1.00e-04)\n",
      "Best objective 2.624454000000e+01, best bound 2.624626000000e+01, gap 0.0066%\n",
      "Optimal set of products:  [8, 14, 18, 47, 56, 72, 75, 87]\n",
      "Optimal revenue:  26.24454000000005\n",
      "Optimal revenue (via expected_revenue):  26.244540000000022\n"
     ]
    }
   ],
   "source": [
    "m = Model()\n",
    "\n",
    "# Create the decision variables\n",
    "x = m.addVars(nSushi, vtype = GRB.BINARY)\n",
    "y = m.addVars(nCustomers, nSushi+1, vtype = GRB.BINARY)\n",
    "\n",
    "# Create the constraints:\n",
    "print(\"Creating constraints...\")\n",
    "for k in range(nCustomers):\n",
    "    m.addConstr( sum(y[k,i] for i in range(nSushi+1)) == 1)\n",
    "    for i in range(nSushi):\n",
    "        m.addConstr( y[k,i] <= x[i] )\n",
    "        m.addConstr( quicksum( utilities_mat[k,j] * y[k,j] for j in range(nSushi+1)) >= utilities_mat[k,i] * x[i] + utilities_mat[k,nSushi]*(1 - x[i]))\n",
    "    m.addConstr( quicksum( utilities_mat[k,j] * y[k,j] for j in range(nSushi+1)) >= utilities_mat[k,nSushi] )\n",
    "\n",
    "# Create the objective:\n",
    "print(\"Creating objective...\")\n",
    "m.setObjective( 1.0/nCustomers * quicksum(prices[i] * y[k,i] for k in range(nCustomers) for i in range(nSushi)), GRB.MAXIMIZE)\n",
    "\n",
    "# Update and solve\n",
    "m.update()\n",
    "\n",
    "print(\"Update completed\")\n",
    "m.optimize()\n",
    "\n",
    "\n",
    "S_optimal = [i for i in range(nSushi) if x[i].x > 0.5]\n",
    "print(\"Optimal set of products: \", S_optimal)\n",
    "\n",
    "optimal_revenue = m.objval\n",
    "print(\"Optimal revenue: \",optimal_revenue)\n",
    "\n",
    "# Verify that optimal profit is correct:\n",
    "exp_revenue_S_optimal, choice_probabilities_S_optimal = expected_revenue( S_optimal )\n",
    "print(\"Optimal revenue (via expected_revenue): \", exp_revenue_S_optimal)"
   ]
  },
  {
   "cell_type": "code",
   "execution_count": 38,
   "id": "319afc08-c4f0-41f1-934e-17eb0f871a04",
   "metadata": {
    "scrolled": true,
    "tags": []
   },
   "outputs": [
    {
     "name": "stdout",
     "output_type": "stream",
     "text": [
      "Gurobi Optimizer version 10.0.0 build v10.0.0rc2 (mac64[x86])\n",
      "\n",
      "CPU model: Intel(R) Core(TM) i7-9750H CPU @ 2.60GHz\n",
      "Thread count: 6 physical cores, 12 logical processors, using up to 12 threads\n",
      "\n",
      "Optimize a model with 101000 rows, 50600 columns and 5301000 nonzeros\n",
      "Model fingerprint: 0xbaeff99d\n",
      "Coefficient statistics:\n",
      "  Matrix range     [6e-06, 5e+00]\n",
      "  Objective range  [2e-02, 7e-02]\n",
      "  Bounds range     [1e+00, 1e+00]\n",
      "  RHS range        [1e+00, 3e+00]\n",
      "Presolve time: 3.57s\n",
      "Presolved: 101000 rows, 50600 columns, 5301000 nonzeros\n",
      "\n",
      "Concurrent LP optimizer: primal simplex, dual simplex, and barrier\n",
      "Showing barrier log only...\n",
      "\n",
      "\n",
      "Barrier performed 0 iterations in 4.84 seconds (4.59 work units)\n",
      "Barrier solve interrupted - model solved by another algorithm\n",
      "\n",
      "\n",
      "Solved with dual simplex\n",
      "\n",
      "Solved in 1156 iterations and 4.90 seconds (5.57 work units)\n",
      "Optimal objective  3.058751154e+01\n",
      "Relaxation bound:  30.58751153829859\n"
     ]
    }
   ],
   "source": [
    "m_relaxed = m.relax()\n",
    "\n",
    "m_relaxed.optimize()\n",
    "\n",
    "relaxation_bound = m_relaxed.objval\n",
    "\n",
    "print(\"Relaxation bound: \", relaxation_bound)"
   ]
  },
  {
   "cell_type": "code",
   "execution_count": 39,
   "id": "93fe8caa-97ec-4054-a7c7-2108e4b5976f",
   "metadata": {
    "scrolled": true
   },
   "outputs": [
    {
     "name": "stdout",
     "output_type": "stream",
     "text": [
      "Relative improvement with most preferred:  22.01246692193112\n",
      "Relative improvement with 10 highest priced:  2.3600359446228283\n"
     ]
    }
   ],
   "source": [
    "# Relative improvements compare to Part 2\n",
    "\n",
    "rel_improvement_mostpref = 100*(exp_revenue_S_optimal - exp_revenue_mostpref)/exp_revenue_mostpref\n",
    "print(\"Relative improvement with most preferred: \", rel_improvement_mostpref)\n",
    "\n",
    "rel_improvement_10highestprice = 100*(exp_revenue_S_optimal - exp_revenue_10highestprice)/exp_revenue_10highestprice\n",
    "print(\"Relative improvement with 10 highest priced: \", rel_improvement_10highestprice)"
   ]
  },
  {
   "cell_type": "code",
   "execution_count": 40,
   "id": "b9e31bdb-ee08-4884-b452-e01101e2a769",
   "metadata": {
    "scrolled": true
   },
   "outputs": [
    {
     "name": "stdout",
     "output_type": "stream",
     "text": [
      "Sushi 8: 0.6060000000000004\n",
      "Sushi 14: 0.002\n",
      "Sushi 18: 0.004\n",
      "Sushi 47: 0.1580000000000001\n",
      "Sushi 56: 0.0\n",
      "Sushi 72: 0.002\n",
      "Sushi 75: 0.004\n",
      "Sushi 87: 0.002\n",
      "Sushi 100: 0.22200000000000017\n"
     ]
    }
   ],
   "source": [
    "# Optimal sushi set\n",
    "\n",
    "for i in choice_probabilities_S_optimal.keys():\n",
    "    print(\"Sushi \" + str(i) + \": \" + str(choice_probabilities_S_optimal[i]) )"
   ]
  },
  {
   "cell_type": "code",
   "execution_count": 41,
   "id": "000da684-31ba-4674-b30f-025c1019ae6b",
   "metadata": {},
   "outputs": [
    {
     "name": "stdout",
     "output_type": "stream",
     "text": [
      "0                    9\n",
      "1    toro (fatty tuna)\n",
      "Name: 8, dtype: object\n",
      "0                 15\n",
      "1    awabi (abalone)\n",
      "Name: 14, dtype: object\n",
      "0                 19\n",
      "1    saba (mackerel)\n",
      "Name: 18, dtype: object\n",
      "0                        48\n",
      "1    tarabagani (king crab)\n",
      "Name: 47, dtype: object\n",
      "0                                    73\n",
      "1    mentaiko_maki (chili cod roe roll)\n",
      "Name: 72, dtype: object\n",
      "0                                     76\n",
      "1    ika_nattou (squid & fermented bean)\n",
      "Name: 75, dtype: object\n",
      "0                      88\n",
      "1    tobiuo (flying fish)\n",
      "Name: 87, dtype: object\n"
     ]
    }
   ],
   "source": [
    "for i in [8, 14, 18, 47, 72, 75, 87]:\n",
    "    print(sushi_descriptions.iloc[i])"
   ]
  },
  {
   "cell_type": "code",
   "execution_count": 42,
   "id": "ed8228a2-5a6e-4502-bc83-eb2ddb17d924",
   "metadata": {},
   "outputs": [],
   "source": [
    "# EOF"
   ]
  }
 ],
 "metadata": {
  "kernelspec": {
   "display_name": "Python 3 (ipykernel)",
   "language": "python",
   "name": "python3"
  },
  "language_info": {
   "codemirror_mode": {
    "name": "ipython",
    "version": 3
   },
   "file_extension": ".py",
   "mimetype": "text/x-python",
   "name": "python",
   "nbconvert_exporter": "python",
   "pygments_lexer": "ipython3",
   "version": "3.10.12"
  }
 },
 "nbformat": 4,
 "nbformat_minor": 5
}
