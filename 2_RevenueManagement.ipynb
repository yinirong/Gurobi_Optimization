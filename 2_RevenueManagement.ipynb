{
 "cells": [
  {
   "cell_type": "markdown",
   "id": "1fdb71cb-59b5-4de0-a5d5-b1b01967715f",
   "metadata": {},
   "source": [
    "# Revenue Management\n",
    "\n",
    "This was an assignment from my Operations Analytics course. The use case here is Cloud Computing."
   ]
  },
  {
   "cell_type": "code",
   "execution_count": 1,
   "id": "af4cb99d-3426-4c4f-bf12-112281e73801",
   "metadata": {},
   "outputs": [],
   "source": [
    "from gurobipy import *\n",
    "import numpy as np\n",
    "import pandas as pd"
   ]
  },
  {
   "cell_type": "markdown",
   "id": "a9a77f3b-9d36-4abc-8479-ae74812d9975",
   "metadata": {
    "tags": []
   },
   "source": [
    "## Cloud Computing"
   ]
  },
  {
   "cell_type": "markdown",
   "id": "e3c426cc-57af-484b-a8ce-b23a162a4ba1",
   "metadata": {},
   "source": [
    "In total, on a given day, Cirrus has 512 CPUs, 1024 GB of memory and 64 GB of GPU memory available. \n",
    "\n",
    "Cirrus offers the following instances:\n",
    "\n",
    "\n",
    "|Instance|Name|CPU (#)|Memory (GB)|GPU (GB)|Price|Rate (#/day)\n",
    "|-|-|-|-|-|-|-|\n",
    "|1|C1|16|8|1|\\\\$7|5.0\n",
    "|2|C2|32|16|1|\\\\$12|5.0\n",
    "|3|C3|64|32|1|\\\\$24|1.8 \n",
    "|4|M1|8|32|1|\\\\$22|3.0\n",
    "|5|M2|16|64|1|\\\\$44|2.6\n",
    "|6|M3|32|128|1|\\\\$88|1.0\n",
    "|7|G1|16|16|2|\\\\$30|0.8 \n",
    "|8|G2|32|32|6|\\\\$90|0.4\n",
    "|9|G3|64|64|8|\\\\$120|0.3\n"
   ]
  },
  {
   "cell_type": "markdown",
   "id": "ebac63b2-9e63-43de-a21e-6dcbfa2c30ee",
   "metadata": {
    "tags": []
   },
   "source": [
    "### Part 1. Capacity control formulation"
   ]
  },
  {
   "cell_type": "markdown",
   "id": "9da37bbf-c8bb-4339-b6d8-406d16787c10",
   "metadata": {},
   "source": [
    "Let $x_1$, ..., $x_9$ be the number of instances that are reserved of each instance type.\n",
    "\n",
    "**(a)** The objective function is:\n",
    "\n",
    "$$\n",
    "\\begin{alignat}{2}\n",
    "\\text{maximize} & \\quad & 7x_1 + 12x_2 + 24x_3 + 22x_4 + 44x_5 + 88x_6 + 30x_7 + 90x_8 + 120x_9\\\\\n",
    "\\end{alignat}\n",
    "$$"
   ]
  },
  {
   "cell_type": "markdown",
   "id": "5005f0df-284b-4360-8985-0b31282c8dfa",
   "metadata": {},
   "source": [
    "**(b)** Let $A_{i,j}$ corresponds to how much of resource $i$ is used by instance $j$ on a given day. The contraint on the total memory usage of the instances that are reserved:\n",
    "\n",
    "$$\n",
    "\\begin{alignat}{2}\n",
    "& 8x_1 + 16x_2 + 32x_3 + 32x_4 + 64x_5 + 128x_6 + 16x_7 + 32x_8 + 64x_9 \\leq 1024 \\\\\n",
    "\\end{alignat}\n",
    "$$"
   ]
  },
  {
   "cell_type": "markdown",
   "id": "fc037df4-215e-4ec4-8fd3-b5576b30e977",
   "metadata": {},
   "source": [
    "**(c)** Since the demand for each type of instance is assumed to follow a Poisson arrival process, and the average arrival rate of instance type 5 is 2.6 per day, the expected number of requests of instance type 5 over the five day period is 13 = (2.6 * 5).\n",
    "\n",
    "Assuming there will be exactly this many requests over the T = 5 day period, the constraint on the number of requests of instance type 5 we may accept is:\n",
    "\n",
    "$$\n",
    "\\begin{alignat}{2}\n",
    "& x_5 \\leq 13 \\\\\n",
    "\\end{alignat}\n",
    "$$"
   ]
  },
  {
   "cell_type": "markdown",
   "id": "57f9da5a-b172-42fc-8877-27830ee2f7ca",
   "metadata": {},
   "source": [
    "**(d)** The LP formulation of the T = 5 day capacity control problem is:\n",
    "\n",
    "$$\n",
    "\\begin{alignat}{2}\n",
    "& \\text{maximize} & 7x_1 + 12x_2 + 24x_3 + 22x_4 + 44x_5 + 88x_6 + 30x_7 + 90x_8 + 120x_9 \\\\\n",
    "& \\text{subject to} \\\\\n",
    "& & 16x_1 + 32x_2 + 64x_3 + 8x_4 + 16x_5 + 32x_6 + 16x_7 + 32x_8 + 64x_9 \\leq 512 \\\\\n",
    "& & 8x_1 + 16x_2 + 32x_3 + 32x_4 + 64x_5 + 128x_6 + 16x_7 + 32x_8 + 64x_9 \\leq 1024 \\\\\n",
    "& & x_1 + x_2 + x_3 + x_4 + x_5 + x_6 + 2x_7 + 6x_8 + 8x_9 \\leq 64 \\\\\n",
    "& & x_1 \\leq 25 \\\\\n",
    "& & x_2 \\leq 25 \\\\\n",
    "& & x_3 \\leq 9 \\\\\n",
    "& & x_4 \\leq 15 \\\\\n",
    "& & x_5 \\leq 13 \\\\\n",
    "& & x_6 \\leq 5 \\\\\n",
    "& & x_7 \\leq 4 \\\\\n",
    "& & x_8 \\leq 2 \\\\\n",
    "& & x_9 \\leq 1.5 \\\\\n",
    "& & x_{i} \\geq 0, & \\;\\; & i \\in \\{1, ... ,3\\} \\\\ \n",
    "\\end{alignat}\n",
    "$$"
   ]
  },
  {
   "cell_type": "markdown",
   "id": "b017bbd1-2d5c-468c-82ed-6631c088f769",
   "metadata": {
    "tags": []
   },
   "source": [
    "### Part 2. Solving the capacity control problem in Python/Gurobi"
   ]
  },
  {
   "cell_type": "markdown",
   "id": "abbb4483-1935-44a0-a5ef-3554a084d55a",
   "metadata": {},
   "source": [
    "**(a)** The optimal objective value is **$ 1039.43**.\n",
    "\n",
    "**(b)** In the optimal allocation, approximately **6** requests of instance type C1 are accepted."
   ]
  },
  {
   "cell_type": "code",
   "execution_count": 2,
   "id": "3353b892-9085-4634-831c-afd821bcf3dc",
   "metadata": {},
   "outputs": [],
   "source": [
    "# The number of instances\n",
    "nInstances = 9\n",
    "\n",
    "# Time horizon:\n",
    "T = 5\n",
    "\n",
    "# Price for each instance type:\n",
    "price = np.array([7, 12, 24, 22, 44, 88, 30, 90, 120])\n",
    "\n",
    "# Forecasted demand for each instance type: \n",
    "rates = np.array([5.0, 5.0, 1.8, 3.0, 2.6, 1.0, 0.8, 0.4, 0.3]) \n",
    "instance_demand = rates * T\n",
    "\n",
    "# Capacity of each resource: \n",
    "resource_capacity = np.array([512, 1024, 64])\n",
    "\n",
    "# Component requirements:\n",
    "cpu_requirement = np.array([16,32,64,8,16,32,16,32,64])\n",
    "memory_requirement = np.array([8,16,32,32,64,128,16,32,64])\n",
    "gpu_requirement = np.array([1,1,1,1,1,1,2,6,8])"
   ]
  },
  {
   "cell_type": "code",
   "execution_count": 3,
   "id": "c06647af-ffbd-4d1a-9a5f-5fa19da33332",
   "metadata": {
    "scrolled": true,
    "tags": []
   },
   "outputs": [
    {
     "name": "stdout",
     "output_type": "stream",
     "text": [
      "Set parameter Username\n",
      "Academic license - for non-commercial use only - expires 2024-01-05\n",
      "Gurobi Optimizer version 10.0.0 build v10.0.0rc2 (mac64[x86])\n",
      "\n",
      "CPU model: Intel(R) Core(TM) i7-9750H CPU @ 2.60GHz\n",
      "Thread count: 6 physical cores, 12 logical processors, using up to 12 threads\n",
      "\n",
      "Optimize a model with 3 rows, 9 columns and 27 nonzeros\n",
      "Model fingerprint: 0x207d4a09\n",
      "Coefficient statistics:\n",
      "  Matrix range     [1e+00, 1e+02]\n",
      "  Objective range  [7e+00, 1e+02]\n",
      "  Bounds range     [2e+00, 2e+01]\n",
      "  RHS range        [6e+01, 1e+03]\n",
      "Presolve removed 0 rows and 1 columns\n",
      "Presolve time: 0.00s\n",
      "Presolved: 3 rows, 8 columns, 24 nonzeros\n",
      "\n",
      "Iteration    Objective       Primal Inf.    Dual Inf.      Time\n",
      "       0    1.4400000e+03   7.200000e+01   0.000000e+00      0s\n",
      "       3    1.0394286e+03   0.000000e+00   0.000000e+00      0s\n",
      "\n",
      "Solved in 3 iterations and 0.01 seconds (0.00 work units)\n",
      "Optimal objective  1.039428571e+03\n",
      "\n",
      "Allocation:\n",
      "[6.28571429 0.         0.         3.42857143 0.         5.\n",
      " 4.         2.         1.5       ]\n",
      "Objective:\n",
      "1039.4285714285716\n"
     ]
    }
   ],
   "source": [
    "from gurobipy import *\n",
    "\n",
    "# Create the model\n",
    "m = Model()\n",
    "\n",
    "# Create decision variables\n",
    "x_1 = m.addVar(lb = 0, ub = instance_demand[0])\n",
    "x_2 = m.addVar(lb = 0, ub = instance_demand[1])\n",
    "x_3 = m.addVar(lb = 0, ub = instance_demand[2])\n",
    "x_4 = m.addVar(lb = 0, ub = instance_demand[3])\n",
    "x_5 = m.addVar(lb = 0, ub = instance_demand[4])\n",
    "x_6 = m.addVar(lb = 0, ub = instance_demand[5])\n",
    "x_7 = m.addVar(lb = 0, ub = instance_demand[6])\n",
    "x_8 = m.addVar(lb = 0, ub = instance_demand[7])\n",
    "x_9 = m.addVar(lb = 0, ub = instance_demand[8])\n",
    "\n",
    "x = np.array([x_1, x_2, x_3, x_4, x_5, x_6, x_7, x_8, x_9])\n",
    "\n",
    "# Create constraints\n",
    "cpu_constr = m.addConstr( sum( cpu_requirement[i] * x[i] for i in range(nInstances)) <= resource_capacity[0] )\n",
    "memory_constr = m.addConstr( sum( memory_requirement[i] * x[i] for i in range(nInstances)) <= resource_capacity[1] )\n",
    "gpu_constr = m.addConstr( sum( gpu_requirement[i] * x[i] for i in range(nInstances)) <= resource_capacity[2] )\n",
    "\n",
    "# Set the objective\n",
    "m.setObjective(sum( price[i] * x[i] for i in range(nInstances)), GRB.MAXIMIZE )\n",
    "\n",
    "# Update + solve:\n",
    "m.update()\n",
    "m.optimize()\n",
    "\n",
    "# Get the objective value\n",
    "LP_obj = m.objval\n",
    "\n",
    "# Get the allocation\n",
    "allocation = np.array([x_1.x, x_2.x, x_3.x, x_4.x, x_5.x, x_6.x, x_7.x, x_8.x, x_9.x])\n",
    "\n",
    "# Display the results:\n",
    "print()\n",
    "print(\"Allocation:\")\n",
    "print(allocation) # x_i\n",
    "\n",
    "print(\"Objective:\")\n",
    "print(LP_obj)"
   ]
  },
  {
   "cell_type": "markdown",
   "id": "cd204fad-c09a-435d-a6d2-2b82ad03b8ee",
   "metadata": {
    "tags": []
   },
   "source": [
    "### Part 3. Simulating current practice\n",
    "\n",
    "Currently, Cirrus simply accepts requests in a first-come first-serve fashion, without considering the revenue of the requests."
   ]
  },
  {
   "cell_type": "markdown",
   "id": "76550c77-a9a4-421d-b899-c23bb31ecb4f",
   "metadata": {},
   "source": [
    "**(a)** The average number of arrivals of type C1 in the set of simulated sequences is **26.63**."
   ]
  },
  {
   "cell_type": "markdown",
   "id": "ff3abb64-9c79-4eaf-937e-b5f7317f99b3",
   "metadata": {},
   "source": [
    "**(b)** The average number of arrivals, of all types, over the set of simulated sequences are similar to the forecasted # of arrivals based on the Poisson distribution, but they are not exactly the same.\n",
    "\n",
    "|Instance|Name|Average # of Arrivals|Forecasted # of Arrivals\n",
    "|-|-|-|-\n",
    "|1|C1|26.63|25\n",
    "|2|C2|24.38|25\n",
    "|3|C3|9.01|9\n",
    "|4|M1|14.88|15\n",
    "|5|M2|13.32|13\n",
    "|6|M3|4.93|5\n",
    "|7|G1|4.2|4\n",
    "|8|G2|2.27|2\n",
    "|9|G3|1.38|1.5"
   ]
  },
  {
   "cell_type": "markdown",
   "id": "d1e14f66-841d-40b7-aa5e-e436002395a6",
   "metadata": {},
   "source": [
    "**(c)** The average revenue garnered by Cirrus's current policy (myopic) is **$ 528.28**.\n",
    "\n",
    "**(d)** The average remaining capacity (of CPUs, memory and GPUs) of this policy is **0.24, 371.52, 37.42**, respectively."
   ]
  },
  {
   "cell_type": "code",
   "execution_count": 4,
   "id": "39570d3f-30d0-4653-a001-fca9ea1155e0",
   "metadata": {},
   "outputs": [],
   "source": [
    "# Preconditions:\n",
    "# nSimulations = integer specifying number of simulations to run\n",
    "# rates = array containing arrival rate (# / day) for each of the instance\n",
    "# types (should be an array with 9 elements)\n",
    "# T = length of horizon in days\n",
    "\n",
    "def generateArrivalSequences( nSimulations, rates, T ):\n",
    "    total_rate = sum(rates)\n",
    "    nTypes = len(rates)\n",
    "\n",
    "    arrival_sequences_times = []\n",
    "    arrival_sequences_types = [];\n",
    "\n",
    "    for s in range(nSimulations):\n",
    "        single_arrival_sequence_time = [];\n",
    "        single_arrival_sequence_type = [];\n",
    "        t = 0;\n",
    "        while (t < T):\n",
    "            single_time = np.random.exponential(1.0/total_rate)\n",
    "            single_type = np.random.choice(nTypes, p= rates/total_rate )\n",
    "\n",
    "            t += single_time;\n",
    "\n",
    "            if (t < T):\n",
    "                single_arrival_sequence_time.append(t)\n",
    "                single_arrival_sequence_type.append(single_type)\n",
    "            else:\n",
    "                break\n",
    "\n",
    "        arrival_sequences_times.append(np.array(single_arrival_sequence_time))\n",
    "        arrival_sequences_types.append(np.array(single_arrival_sequence_type))\n",
    "    return arrival_sequences_times, arrival_sequences_types"
   ]
  },
  {
   "cell_type": "code",
   "execution_count": 5,
   "id": "8afecf4d-4dae-4c45-a914-6c2a088c8888",
   "metadata": {},
   "outputs": [
    {
     "data": {
      "text/plain": [
       "array([0.07414243, 0.1246028 , 0.15928449])"
      ]
     },
     "execution_count": 5,
     "metadata": {},
     "output_type": "execute_result"
    }
   ],
   "source": [
    "# Code to test out above function\n",
    "np.random.seed(10)\n",
    "nSimulations_test = 100\n",
    "rates_test = rates\n",
    "T_test = 5\n",
    "arrival_sequences_times, arrival_sequences_types = generateArrivalSequences(nSimulations_test, rates_test, T_test)\n",
    "arrival_sequences_times[0][:3]"
   ]
  },
  {
   "cell_type": "code",
   "execution_count": 6,
   "id": "839212d5-18e9-48e5-bf6b-2e13fe596663",
   "metadata": {},
   "outputs": [],
   "source": [
    "# arrival_sequences_times[11]"
   ]
  },
  {
   "cell_type": "code",
   "execution_count": 7,
   "id": "898e4249-b458-4ea0-a555-aa452bbff62c",
   "metadata": {},
   "outputs": [],
   "source": [
    "# arrival_sequences_types[11]"
   ]
  },
  {
   "cell_type": "code",
   "execution_count": 8,
   "id": "8efb9f75-1d11-4616-8719-e2ba01180fcd",
   "metadata": {},
   "outputs": [],
   "source": [
    "def calculate_average_arrivals(instance_type):\n",
    "    nArrivals = 0\n",
    "\n",
    "    for i in range(nSimulations_test):\n",
    "        for j in range(len(arrival_sequences_types[i])):\n",
    "            if arrival_sequences_types[i][j] == instance_type:\n",
    "                nArrivals += 1\n",
    "                \n",
    "    return nArrivals/nSimulations_test"
   ]
  },
  {
   "cell_type": "code",
   "execution_count": 9,
   "id": "fe44d4f8-fe06-473a-9353-49b7d7befbc8",
   "metadata": {},
   "outputs": [
    {
     "name": "stdout",
     "output_type": "stream",
     "text": [
      "Average number of arrivals of type C1:  26.63\n"
     ]
    }
   ],
   "source": [
    "avg_arrivals_C1 = calculate_average_arrivals(0)\n",
    "print(\"Average number of arrivals of type C1: \", avg_arrivals_C1)"
   ]
  },
  {
   "cell_type": "code",
   "execution_count": 10,
   "id": "29f24cef-ea23-4b2a-b3dc-20a4b737b76e",
   "metadata": {},
   "outputs": [
    {
     "data": {
      "text/plain": [
       "[26.63, 24.38, 9.01, 14.88, 13.32, 4.93, 4.2, 2.27, 1.38]"
      ]
     },
     "execution_count": 10,
     "metadata": {},
     "output_type": "execute_result"
    }
   ],
   "source": [
    "all_avg_arrivals = [] \n",
    "\n",
    "for instance_type in range(nInstances):\n",
    "    avg_arrivals = calculate_average_arrivals(instance_type)\n",
    "    all_avg_arrivals.append(avg_arrivals)\n",
    "    \n",
    "all_avg_arrivals"
   ]
  },
  {
   "cell_type": "code",
   "execution_count": 11,
   "id": "5c9d1691-3951-4cc3-8c8a-36d213bf846d",
   "metadata": {},
   "outputs": [
    {
     "data": {
      "text/plain": [
       "array([25. , 25. ,  9. , 15. , 13. ,  5. ,  4. ,  2. ,  1.5])"
      ]
     },
     "execution_count": 11,
     "metadata": {},
     "output_type": "execute_result"
    }
   ],
   "source": [
    "instance_demand"
   ]
  },
  {
   "cell_type": "code",
   "execution_count": 12,
   "id": "5446910a-59e7-4a77-af88-5262c5818442",
   "metadata": {},
   "outputs": [
    {
     "name": "stdout",
     "output_type": "stream",
     "text": [
      "Mean revenue (myopic):  528.28\n",
      "Mean capacity remaining (myopic):  [2.4000e-01 3.7152e+02 3.7420e+01]\n"
     ]
    }
   ],
   "source": [
    "# Preconditions for code below:\n",
    "# nSimulations = number of simulations to run\n",
    "# nResources = number of different types of resources (= 3)\n",
    "# B = numpy array of initial capacities of the resources\n",
    "# arrival_sequences_times = array where each entry is arrival time sequence for that simulation\n",
    "# arrival_sequences_types = array where each entry is sequence of request types for that simulation\n",
    "\n",
    "np.random.seed(10)\n",
    "nSimulations = 100\n",
    "nResources = 3\n",
    "T = 5\n",
    "rates = rates\n",
    "B = resource_capacity\n",
    "arrival_sequences_times, arrival_sequences_types = generateArrivalSequences(nSimulations, rates, T)\n",
    "\n",
    "\n",
    "results_myopic_revenue = np.zeros(nSimulations)\n",
    "results_myopic_remaining_capacity = np.zeros((nResources, nSimulations))\n",
    "\n",
    "for s in range(nSimulations):\n",
    "    b = B.copy();\n",
    "    single_revenue = 0.0; # will contain the revenue of this simulation\n",
    "    nArrivals = len(arrival_sequences_times[s]);\n",
    "\n",
    "    # Go through the arrivals in sequence\n",
    "    for j in range(nArrivals):\n",
    "        # Obtain the time of the arrival, and its type (i)\n",
    "        arrival_time = arrival_sequences_times[s][j]\n",
    "        i = arrival_sequences_types[s][j]\n",
    "\n",
    "        # Check if there is sufficient capacity for the request        \n",
    "        if ( (b[0] >= cpu_requirement[i]) and (b[1] >= memory_requirement[i]) and (b[2] >= gpu_requirement[i]) ):\n",
    "            # If there is sufficient capacity, accrue the revenue and remove the capacity\n",
    "            single_revenue += price[i]\n",
    "            b[0] -= cpu_requirement[i]\n",
    "            b[1] -= memory_requirement[i]\n",
    "            b[2] -= gpu_requirement[i]\n",
    "\n",
    "    # Save the results of this simulation\n",
    "    results_myopic_revenue[s] = single_revenue\n",
    "    results_myopic_remaining_capacity[0][s] = b[0]\n",
    "    results_myopic_remaining_capacity[1][s] = b[1]\n",
    "    results_myopic_remaining_capacity[2][s] = b[2]\n",
    "\n",
    "# Find the average revenue\n",
    "mean_myopic_revenue = results_myopic_revenue.mean()\n",
    "# Find the average remaining quantity of each resource\n",
    "mean_myopic_remaining_capacity = np.mean(results_myopic_remaining_capacity, axis=1)\n",
    "    \n",
    "print(\"Mean revenue (myopic): \", mean_myopic_revenue)\n",
    "print(\"Mean capacity remaining (myopic): \", mean_myopic_remaining_capacity)"
   ]
  },
  {
   "cell_type": "markdown",
   "id": "8c80a6e3-f519-440d-a36b-6b9c630e0584",
   "metadata": {
    "tags": []
   },
   "source": [
    "### Part 4. A bid-price control policy"
   ]
  },
  {
   "cell_type": "markdown",
   "id": "3e85f59d-0eb2-410e-a6b4-fb726235cfd2",
   "metadata": {},
   "source": [
    "**(a)** The approximate opportunity cost of accepting this request for instance type 5 (M2) is **$44**."
   ]
  },
  {
   "cell_type": "markdown",
   "id": "7a84881c-8a2b-4b2b-a822-e64e4e25cff9",
   "metadata": {},
   "source": [
    "**(b)** Suppose that we receive a request at time $t$. The expected number of requests of type $i$ from time $t$ to time $T$ (including both $t$ and $T$) is\n",
    "\n",
    "$$\n",
    "\\begin{alignat}{2}\n",
    "& (T - t + 1) \\; * \\; \\text{rate of type} \\; i\n",
    "\\end{alignat}\n",
    "$$"
   ]
  },
  {
   "cell_type": "markdown",
   "id": "a2920f3c-1ece-42b9-bf8c-dfe7d81c1f7e",
   "metadata": {},
   "source": [
    "**(c)** The average revenue garnered by the bid-price control policy is **$ 925.59**.\n",
    "\n",
    "**(d)** The average remaining capacity (of CPUs, memory and GPUs) of this policy is **27.2, 4.88, 20.62**, respectively."
   ]
  },
  {
   "cell_type": "code",
   "execution_count": 13,
   "id": "adb17378-ffa6-4807-8481-35d73d4b16b0",
   "metadata": {},
   "outputs": [
    {
     "data": {
      "text/plain": [
       "44.0"
      ]
     },
     "execution_count": 13,
     "metadata": {},
     "output_type": "execute_result"
    }
   ],
   "source": [
    "instance_5_opportunity_cost = 16*cpu_constr.pi + 64*memory_constr.pi + 1*gpu_constr.pi\n",
    "instance_5_opportunity_cost"
   ]
  },
  {
   "cell_type": "code",
   "execution_count": 14,
   "id": "fdc4aa02-464c-4e01-a1cc-424c7bf6e4d5",
   "metadata": {
    "tags": []
   },
   "outputs": [
    {
     "name": "stdout",
     "output_type": "stream",
     "text": [
      "Allocation:\n",
      "[6.285714285714286, 0.0, 0.0, 3.428571428571429, 0.0, 5.0, 4.0, 2.0, 1.5]\n",
      "\n",
      "Objective:\n",
      "1039.4285714285716\n"
     ]
    }
   ],
   "source": [
    "# Create the model\n",
    "m = Model()\n",
    "\n",
    "m.Params.outputflag = 0\n",
    "\n",
    "# Create decision variables\n",
    "x = m.addVars(nInstances)\n",
    "\n",
    "for i in range(nInstances):\n",
    "    x[i].ub = instance_demand[i]\n",
    "\n",
    "# Create constraints\n",
    "cpu_constr = m.addConstr( sum( cpu_requirement[i] * x[i] for i in range(nInstances)) <= resource_capacity[0] )\n",
    "memory_constr = m.addConstr( sum( memory_requirement[i] * x[i] for i in range(nInstances)) <= resource_capacity[1] )\n",
    "gpu_constr = m.addConstr( sum( gpu_requirement[i] * x[i] for i in range(nInstances)) <= resource_capacity[2] )\n",
    "\n",
    "# Set the objective\n",
    "m.setObjective(sum( price[i] * x[i] for i in range(nInstances)), GRB.MAXIMIZE )\n",
    "\n",
    "# Update + solve:\n",
    "m.update()\n",
    "m.optimize()\n",
    "\n",
    "# Get the objective value\n",
    "LP_obj = m.objval\n",
    "\n",
    "# Get the allocation\n",
    "allocation = [ x[i].x for i in range(nInstances)]\n",
    "\n",
    "# Display the results:\n",
    "print(\"Allocation:\")\n",
    "print(allocation) # x_i\n",
    "print()\n",
    "print(\"Objective:\")\n",
    "print(LP_obj)"
   ]
  },
  {
   "cell_type": "code",
   "execution_count": 15,
   "id": "4a9d8e55-38e7-4873-8dfc-3b583a06ae78",
   "metadata": {
    "tags": []
   },
   "outputs": [
    {
     "name": "stdout",
     "output_type": "stream",
     "text": [
      "Mean revenue (bid-price control):  925.59\n",
      "Mean capacity remaining (bid-price control):  [27.2   4.88 20.62]\n"
     ]
    }
   ],
   "source": [
    "# Preconditions for code below:\n",
    "# nSimulations = number of simulations to run\n",
    "# nResources = number of different types of resources (= 3)\n",
    "# B = numpy array of initial capacities of the resources\n",
    "# arrival_sequences_times = array where each entry is arrival time sequence for that simulation\n",
    "# arrival_sequences_types = array where each entry is sequence of request types for that simulation\n",
    "\n",
    "np.random.seed(10)\n",
    "nSimulations = 100\n",
    "nResources = 3\n",
    "T = 5\n",
    "rates = rates\n",
    "B = resource_capacity\n",
    "arrival_sequences_times, arrival_sequences_types = generateArrivalSequences(nSimulations, rates, T)\n",
    "\n",
    "def bpc(b, t):\n",
    "    #for r in range(nResources):\n",
    "        # Set the RHS of the resource constraint to b[r] here\n",
    "    cpu_constr.rhs = b[0]\n",
    "    memory_constr.rhs = b[1]\n",
    "    gpu_constr.rhs = b[2]\n",
    "\n",
    "    for i in range(nInstances):\n",
    "        # Set the RHS of the forecast constraint for each instance\n",
    "        # type to the expected number of requests over the duration\n",
    "        # of the remaining horizon (T - t).\n",
    "        x[i].ub = (T - t) * rates[i]\n",
    "\n",
    "    # Re-solve the model:\n",
    "    m.update()\n",
    "    m.optimize()\n",
    "\n",
    "    # Obtain the dual values/shadow prices\n",
    "    dual_val = [cpu_constr.pi, memory_constr.pi, gpu_constr.pi]\n",
    "\n",
    "    # Return the dual values:\n",
    "    return dual_val\n",
    "\n",
    "\n",
    "\n",
    "results_revenue = np.zeros(nSimulations)\n",
    "results_remaining_capacity = np.zeros((nResources, nSimulations))\n",
    "for s in range(nSimulations):\n",
    "    b = B.copy() # Initialize the current capacity\n",
    "    single_revenue = 0.0 # Initialize the revenue garnered in this simulation\n",
    "    nArrivals = len(arrival_sequences_times[s])\n",
    "    for j in range(nArrivals):\n",
    "        # Take the next arrival time and type from the sequence\n",
    "        arrival_time = arrival_sequences_times[s][j]\n",
    "        i = arrival_sequences_types[s][j]\n",
    "\n",
    "        # Check if there is enough capacity\n",
    "        # if ( (b[0] < cpu_requirement[i]) or (b[1] < memory_requirement[i]) or (b[2] < gpu_requirement[i]) ):\n",
    "        if ( (b[0] ==0) and (b[1] ==0) and (b[2] ==0) ):\n",
    "            break\n",
    "        \n",
    "        if ( (b[0] >= cpu_requirement[i]) and (b[1] >= memory_requirement[i]) and (b[2] >= gpu_requirement[i]) ):\n",
    "            # Re-solve the LO and obtain the dual values\n",
    "            dual_val = bpc(b, arrival_time)\n",
    "\n",
    "            # Check if the revenue is at least the sum of the bid prices\n",
    "            bid_price = cpu_requirement[i]*dual_val[0] + memory_requirement[i]*dual_val[1] + gpu_requirement[i]*dual_val[2]\n",
    "            if ( price[i] >= bid_price):\n",
    "                # If there is sufficient capacity, accrue the revenue and remove the capacity\n",
    "                single_revenue += price[i]\n",
    "                b[0] -= cpu_requirement[i]\n",
    "                b[1] -= memory_requirement[i]\n",
    "                b[2] -= gpu_requirement[i]\n",
    "\n",
    "    # Save the results of this simulation here:\n",
    "    results_revenue[s] = single_revenue\n",
    "    results_remaining_capacity[0][s] = b[0]\n",
    "    results_remaining_capacity[1][s] = b[1]\n",
    "    results_remaining_capacity[2][s] = b[2]\n",
    "\n",
    "# Find the average revenue\n",
    "mean_revenue = results_revenue.mean()\n",
    "# Find the average remaining quantity of each resource\n",
    "mean_remaining_capacity = np.mean(results_remaining_capacity, axis=1)\n",
    "    \n",
    "print(\"Mean revenue (bid-price control): \", mean_revenue)\n",
    "print(\"Mean capacity remaining (bid-price control): \", mean_remaining_capacity)"
   ]
  },
  {
   "cell_type": "code",
   "execution_count": 42,
   "id": "ed8228a2-5a6e-4502-bc83-eb2ddb17d924",
   "metadata": {},
   "outputs": [],
   "source": [
    "# EOF"
   ]
  }
 ],
 "metadata": {
  "kernelspec": {
   "display_name": "Python 3 (ipykernel)",
   "language": "python",
   "name": "python3"
  },
  "language_info": {
   "codemirror_mode": {
    "name": "ipython",
    "version": 3
   },
   "file_extension": ".py",
   "mimetype": "text/x-python",
   "name": "python",
   "nbconvert_exporter": "python",
   "pygments_lexer": "ipython3",
   "version": "3.10.12"
  }
 },
 "nbformat": 4,
 "nbformat_minor": 5
}
