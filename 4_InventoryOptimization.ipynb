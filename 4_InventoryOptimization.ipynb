{
 "cells": [
  {
   "cell_type": "markdown",
   "id": "e6659106-7834-4bd4-a644-79418badad59",
   "metadata": {},
   "source": [
    "# Inventory Optimization\n",
    "\n",
    "This was an assignment from my Operations Analytics course. The use case here is to apply both basic and contextual newsvendor models to a Nurses Staffing problem."
   ]
  },
  {
   "cell_type": "code",
   "execution_count": 1,
   "id": "65998084-ed85-4274-a759-911506371d73",
   "metadata": {},
   "outputs": [],
   "source": [
    "from gurobipy import *\n",
    "import numpy as np\n",
    "import pandas as pd"
   ]
  },
  {
   "cell_type": "code",
   "execution_count": 2,
   "id": "00755212-6fcd-4940-a13f-08b86820e8e0",
   "metadata": {},
   "outputs": [
    {
     "name": "stdout",
     "output_type": "stream",
     "text": [
      "<class 'pandas.core.frame.DataFrame'>\n",
      "RangeIndex: 300 entries, 0 to 299\n",
      "Data columns (total 7 columns):\n",
      " #   Column          Non-Null Count  Dtype  \n",
      "---  ------          --------------  -----  \n",
      " 0   Day             300 non-null    int64  \n",
      " 1   DailyED         300 non-null    int64  \n",
      " 2   IsWeekend       300 non-null    int64  \n",
      " 3   IsHoliday       300 non-null    int64  \n",
      " 4   DailyEDLag1     300 non-null    int64  \n",
      " 5   DailyEDLag2     300 non-null    int64  \n",
      " 6   PriorSurgeries  300 non-null    float64\n",
      "dtypes: float64(1), int64(6)\n",
      "memory usage: 16.5 KB\n"
     ]
    }
   ],
   "source": [
    "nurse_df = pd.read_csv(\"nurse.csv\")\n",
    "nurse_df.info()"
   ]
  },
  {
   "cell_type": "code",
   "execution_count": 3,
   "id": "0346a5ac-afe4-465b-9de1-578d4ad563d1",
   "metadata": {},
   "outputs": [],
   "source": [
    "# Split train and test\n",
    "\n",
    "nurse_train = nurse_df.iloc[:200]\n",
    "nurse_test = nurse_df.iloc[200:]"
   ]
  },
  {
   "cell_type": "markdown",
   "id": "986f376d-bd87-488a-9c19-6b1a0e64d079",
   "metadata": {
    "tags": []
   },
   "source": [
    "### Part 1: Formulating a basic newsvendor model"
   ]
  },
  {
   "cell_type": "markdown",
   "id": "00f3c50e-7488-48ac-80b9-15626f5fac7f",
   "metadata": {},
   "source": [
    "**(a)** Suppose that on a given day, there are 12 ED cases, and we have staffed 18 regular nurses. The staffing cost incurred by the hospital would be **\\\\$38,880** = (18 * \\\\$2,160 ). The hospital could pay $12,960 *less* if not for being over-staffed."
   ]
  },
  {
   "cell_type": "markdown",
   "id": "f3c45bd4-f1dd-4b55-b5e1-69f33efde2a5",
   "metadata": {},
   "source": [
    "**(b)** Suppose that there are 8 ED cases, and we have staffed 5 regular nurses. The staffing cost incurred by the hospital would be **\\\\$27,000** = (5 * \\\\$2,160 + 3 * \\\\$5,400). The hospital would pay $9,720 *less* if not for being under-staffed."
   ]
  },
  {
   "cell_type": "markdown",
   "id": "684cdf9f-52a8-4182-9c3f-d9c8cbf4698e",
   "metadata": {},
   "source": [
    "**(c)** Formulate the problem as to minimize daily expected cost:\n",
    "\n",
    "Suppose $Q$ is the number of regular nurses hired each day and $D$ is the number of ED cases each day.\n",
    "\n",
    "- $c_o$, overage cost, occurs when $Q$ > $D$ so it is \\\\$2,160 per regular nurse whom I didn't have to pay if I get my staffing level just right\n",
    "\n",
    "- $c_u$, underage cost, occurs when $D$ > $Q$ so it is \\\\$3,240 (= 5,400 - 2,160) in addition to the regular nurse wage that I have to pay if I get my staffing level just right\n",
    "\n",
    "Then, the formulation of this cost-based problem is\n",
    "\n",
    "$$ \\min_Q \\mathbb{E}[ 3240 * \\max\\{D - Q, 0\\} + 2160 * \\max\\{Q - D, 0\\} + 2160 * D] $$\n",
    "\n",
    "In other words, the optimal order quantity is the $c_u/(c_u + c_o) = 3240 / 5400 $ quantile of the demand distribution. "
   ]
  },
  {
   "cell_type": "markdown",
   "id": "36afe10c-489d-441d-8170-bcfec321785c",
   "metadata": {},
   "source": [
    "**(d)** The \"un-avoidable” cost component is the cost of hiring regular nurses in addition to the \"avoidable\" costs in the overage and underage scenarios.\n",
    "\n",
    "$$ 2160 * D $$"
   ]
  },
  {
   "cell_type": "code",
   "execution_count": 4,
   "id": "2937f2e6-200d-4c08-9349-a6f7a8d61bcc",
   "metadata": {},
   "outputs": [
    {
     "name": "stdout",
     "output_type": "stream",
     "text": [
      "38880\n",
      "12960\n",
      "27000\n",
      "9720\n"
     ]
    }
   ],
   "source": [
    "print(18*2160)\n",
    "\n",
    "print(18*2160 - 12*2160)\n",
    "\n",
    "print(5*2160 + 3*5400)\n",
    "\n",
    "print(3*5400 - 3*2160)"
   ]
  },
  {
   "cell_type": "markdown",
   "id": "12ea7fd0-2479-4fa3-8126-4febed34194e",
   "metadata": {
    "tags": []
   },
   "source": [
    "### Part 2: Solving the basic newsvendor model"
   ]
  },
  {
   "cell_type": "markdown",
   "id": "d3d52229-927b-4c56-b697-a89ccc2955fb",
   "metadata": {},
   "source": [
    "**(a)** Based on the overage and underage costs from Part 1, the optimal staffing level corresponds to the following quantile of the empirical distribution of `DailyED` is\n",
    "\n",
    "$$ c_u/(c_u + c_o) = 3240 / (3240 + 2160) = 0.6 $$"
   ]
  },
  {
   "cell_type": "markdown",
   "id": "700cf877-c7c1-46fd-afcc-49f8f7df5dd8",
   "metadata": {},
   "source": [
    "**(b)** Based on the empirical distribution of `DailyED` in the training set, the optimal staff level is **16**."
   ]
  },
  {
   "cell_type": "markdown",
   "id": "7705b2e9-3c6f-4855-a50e-98bb63bb9688",
   "metadata": {},
   "source": [
    "**(c)** The average cost over the 200 days in the training set that this staffing level would incur is **$41,256**."
   ]
  },
  {
   "cell_type": "markdown",
   "id": "13ca403c-ad12-4a35-ae1b-7129c649f23e",
   "metadata": {},
   "source": [
    "**(d)** The average cost over the 100 days in the test set that this staffing level would incur is **$39,528**."
   ]
  },
  {
   "cell_type": "code",
   "execution_count": 5,
   "id": "e84e1864-1b65-47e8-94af-20cd096687f9",
   "metadata": {},
   "outputs": [
    {
     "name": "stdout",
     "output_type": "stream",
     "text": [
      "0.6\n"
     ]
    }
   ],
   "source": [
    "c_u = 5400 - 2160\n",
    "c_o = 2160\n",
    "baseline_nv_quantile = c_u / (c_u + c_o)\n",
    "print( baseline_nv_quantile )"
   ]
  },
  {
   "cell_type": "code",
   "execution_count": 6,
   "id": "b39ef4e7-1d5c-423b-925a-e49fee262940",
   "metadata": {},
   "outputs": [
    {
     "name": "stdout",
     "output_type": "stream",
     "text": [
      "16.0\n"
     ]
    }
   ],
   "source": [
    "dailyED = nurse_df['DailyED']\n",
    "baseline_optimal = dailyED.quantile(baseline_nv_quantile)\n",
    "print( baseline_optimal )"
   ]
  },
  {
   "cell_type": "code",
   "execution_count": 7,
   "id": "e3797f09-b7be-4902-bf3f-029ca41657b2",
   "metadata": {},
   "outputs": [],
   "source": [
    "Q = baseline_optimal\n",
    "\n",
    "def calculate_daily_cost(D):\n",
    "    return c_u * max(D - Q, 0) + c_o * max(Q - D, 0) + c_o * D"
   ]
  },
  {
   "cell_type": "code",
   "execution_count": 8,
   "id": "bc9abb2c-7175-4aa0-89e9-6ff781364403",
   "metadata": {},
   "outputs": [
    {
     "name": "stdout",
     "output_type": "stream",
     "text": [
      "41256.0\n"
     ]
    }
   ],
   "source": [
    "daily_cost = np.array( list(map( calculate_daily_cost, nurse_train['DailyED'])) )\n",
    "expected_cost = daily_cost.mean()\n",
    "print( expected_cost )"
   ]
  },
  {
   "cell_type": "code",
   "execution_count": 9,
   "id": "22f849fb-c166-4f0c-a9db-b2faa6f909ff",
   "metadata": {},
   "outputs": [
    {
     "name": "stdout",
     "output_type": "stream",
     "text": [
      "39528.0\n"
     ]
    }
   ],
   "source": [
    "daily_cost = np.array( list(map( calculate_daily_cost, nurse_test['DailyED'])) )\n",
    "expected_cost = daily_cost.mean()\n",
    "print( expected_cost )"
   ]
  },
  {
   "cell_type": "markdown",
   "id": "335322bf-a519-494e-9978-7910f979d61c",
   "metadata": {
    "tags": []
   },
   "source": [
    "### Part 3: Solving the contextual newsvendor model"
   ]
  },
  {
   "cell_type": "markdown",
   "id": "a99a2c4b-4657-4cff-9bea-c17214aed97b",
   "metadata": {},
   "source": [
    "**(a)** The regression tree first split at whether `PriorSurgeries` is less than or equal to 21.571 or not. If it is true, it continues to use `PriorSurgeries` as the feature to split; the tree predicts the average number of regular nurses to staff is approximately 12 if `PriorSurgeries` is less than or equal to 16.429, or approximately 14 otherwise. \n",
    "\n",
    "If the `PriorSurgeries` is more than 21.571 at the root node, the tree uses `DailyEDLag2` as the feature to split at this node. The tree predicts the average number of regular nurses to staff is approximately 18 if `DailyEDLag2` is less than or equal to 10.5, or approximately 16 otherwise."
   ]
  },
  {
   "cell_type": "markdown",
   "id": "f3733e33-1ecf-4c19-b1e1-42bdc8891d13",
   "metadata": {},
   "source": [
    "**(b)** For each leaf of the tree, the optimal staffing level (rounded to the nearest integer) for the corresponding conditional distribution of `DailyED` given the training set is:\n",
    "\n",
    "- **Leaf 2: 13**\n",
    "- **Leaf 3: 15**\n",
    "- **Leaf 5: 18**\n",
    "- **Leaf 6: 17**"
   ]
  },
  {
   "cell_type": "markdown",
   "id": "e0d29fd9-6485-467d-b26a-378bd42379f1",
   "metadata": {},
   "source": [
    "**(c)** Under the contextualized model, the average cost over the 200 days in the training set would be **$40,554**."
   ]
  },
  {
   "cell_type": "markdown",
   "id": "15281c2a-1bca-434c-a7ac-f8fc18d22b18",
   "metadata": {},
   "source": [
    "**(d)** Under the contextualized model, the average cost over the 100 days in the test set would be **$38,772**."
   ]
  },
  {
   "cell_type": "code",
   "execution_count": 10,
   "id": "529228ec-a201-46ad-8d74-46d3f8472c73",
   "metadata": {},
   "outputs": [
    {
     "name": "stdout",
     "output_type": "stream",
     "text": [
      "Index(['IsWeekend', 'IsHoliday', 'DailyEDLag1', 'DailyEDLag2',\n",
      "       'PriorSurgeries'],\n",
      "      dtype='object')\n"
     ]
    }
   ],
   "source": [
    "nurse_columns = nurse_df.columns[2:]\n",
    "print(nurse_columns)\n",
    "\n",
    "X_train = nurse_train[ nurse_columns ]\n",
    "X_train = np.asarray(X_train)\n",
    "\n",
    "y_train = nurse_train[ 'DailyED' ]\n",
    "y_train = np.asarray(y_train)"
   ]
  },
  {
   "cell_type": "code",
   "execution_count": 11,
   "id": "ad7d5db1-4151-4d42-8269-fff8e1acd911",
   "metadata": {},
   "outputs": [
    {
     "data": {
      "text/plain": [
       "DecisionTreeRegressor(max_depth=2)"
      ]
     },
     "execution_count": 11,
     "metadata": {},
     "output_type": "execute_result"
    }
   ],
   "source": [
    "# Load the tree module\n",
    "import sklearn.tree as tree\n",
    "\n",
    "# Estimate the regression tree model\n",
    "nurse_tree = tree.DecisionTreeRegressor(max_depth = 2)\n",
    "nurse_tree = nurse_tree.fit(X_train,y_train)\n",
    "\n",
    "# Inspect the nurse_tree object\n",
    "nurse_tree"
   ]
  },
  {
   "cell_type": "code",
   "execution_count": 12,
   "id": "984b34b1-0f82-4f3b-a06c-fe25066c0d78",
   "metadata": {},
   "outputs": [
    {
     "data": {
      "image/svg+xml": [
       "<?xml version=\"1.0\" encoding=\"UTF-8\" standalone=\"no\"?>\n",
       "<!DOCTYPE svg PUBLIC \"-//W3C//DTD SVG 1.1//EN\"\n",
       " \"http://www.w3.org/Graphics/SVG/1.1/DTD/svg11.dtd\">\n",
       "<!-- Generated by graphviz version 8.0.5 (20230430.1635)\n",
       " -->\n",
       "<!-- Title: Tree Pages: 1 -->\n",
       "<svg width=\"498pt\" height=\"224pt\"\n",
       " viewBox=\"0.00 0.00 498.25 224.00\" xmlns=\"http://www.w3.org/2000/svg\" xmlns:xlink=\"http://www.w3.org/1999/xlink\">\n",
       "<g id=\"graph0\" class=\"graph\" transform=\"scale(1 1) rotate(0) translate(4 220)\">\n",
       "<title>Tree</title>\n",
       "<polygon fill=\"white\" stroke=\"none\" points=\"-4,4 -4,-220 494.25,-220 494.25,4 -4,4\"/>\n",
       "<!-- 0 -->\n",
       "<g id=\"node1\" class=\"node\">\n",
       "<title>0</title>\n",
       "<path fill=\"none\" stroke=\"black\" d=\"M312.88,-216C312.88,-216 178.38,-216 178.38,-216 172.38,-216 166.38,-210 166.38,-204 166.38,-204 166.38,-175 166.38,-175 166.38,-169 172.38,-163 178.38,-163 178.38,-163 312.88,-163 312.88,-163 318.88,-163 324.88,-169 324.88,-175 324.88,-175 324.88,-204 324.88,-204 324.88,-210 318.88,-216 312.88,-216\"/>\n",
       "<text text-anchor=\"start\" x=\"174.38\" y=\"-198.7\" font-family=\"Helvetica,sans-Serif\" font-size=\"14.00\">PriorSurgeries ≤ 21.571</text>\n",
       "<text text-anchor=\"start\" x=\"201\" y=\"-183.7\" font-family=\"Helvetica,sans-Serif\" font-size=\"14.00\">samples = 200</text>\n",
       "<text text-anchor=\"start\" x=\"204.75\" y=\"-168.7\" font-family=\"Helvetica,sans-Serif\" font-size=\"14.00\">value = 14.85</text>\n",
       "</g>\n",
       "<!-- 1 -->\n",
       "<g id=\"node2\" class=\"node\">\n",
       "<title>1</title>\n",
       "<path fill=\"none\" stroke=\"black\" d=\"M230.88,-127C230.88,-127 96.38,-127 96.38,-127 90.38,-127 84.38,-121 84.38,-115 84.38,-115 84.38,-86 84.38,-86 84.38,-80 90.38,-74 96.38,-74 96.38,-74 230.88,-74 230.88,-74 236.88,-74 242.88,-80 242.88,-86 242.88,-86 242.88,-115 242.88,-115 242.88,-121 236.88,-127 230.88,-127\"/>\n",
       "<text text-anchor=\"start\" x=\"92.38\" y=\"-109.7\" font-family=\"Helvetica,sans-Serif\" font-size=\"14.00\">PriorSurgeries ≤ 16.429</text>\n",
       "<text text-anchor=\"start\" x=\"119\" y=\"-94.7\" font-family=\"Helvetica,sans-Serif\" font-size=\"14.00\">samples = 105</text>\n",
       "<text text-anchor=\"start\" x=\"119\" y=\"-79.7\" font-family=\"Helvetica,sans-Serif\" font-size=\"14.00\">value = 13.476</text>\n",
       "</g>\n",
       "<!-- 0&#45;&gt;1 -->\n",
       "<g id=\"edge1\" class=\"edge\">\n",
       "<title>0&#45;&gt;1</title>\n",
       "<path fill=\"none\" stroke=\"black\" d=\"M221.47,-162.87C213.28,-154.18 204.01,-144.35 195.33,-135.14\"/>\n",
       "<polygon fill=\"black\" stroke=\"black\" points=\"198.3,-133.13 188.89,-128.25 193.21,-137.93 198.3,-133.13\"/>\n",
       "<text text-anchor=\"middle\" x=\"187.16\" y=\"-146.44\" font-family=\"Helvetica,sans-Serif\" font-size=\"14.00\">True</text>\n",
       "</g>\n",
       "<!-- 4 -->\n",
       "<g id=\"node5\" class=\"node\">\n",
       "<title>4</title>\n",
       "<path fill=\"none\" stroke=\"black\" d=\"M384.62,-127C384.62,-127 272.62,-127 272.62,-127 266.62,-127 260.62,-121 260.62,-115 260.62,-115 260.62,-86 260.62,-86 260.62,-80 266.62,-74 272.62,-74 272.62,-74 384.62,-74 384.62,-74 390.62,-74 396.62,-80 396.62,-86 396.62,-86 396.62,-115 396.62,-115 396.62,-121 390.62,-127 384.62,-127\"/>\n",
       "<text text-anchor=\"start\" x=\"268.62\" y=\"-109.7\" font-family=\"Helvetica,sans-Serif\" font-size=\"14.00\">DailyEDLag2 ≤ 10.5</text>\n",
       "<text text-anchor=\"start\" x=\"287.75\" y=\"-94.7\" font-family=\"Helvetica,sans-Serif\" font-size=\"14.00\">samples = 95</text>\n",
       "<text text-anchor=\"start\" x=\"284\" y=\"-79.7\" font-family=\"Helvetica,sans-Serif\" font-size=\"14.00\">value = 16.368</text>\n",
       "</g>\n",
       "<!-- 0&#45;&gt;4 -->\n",
       "<g id=\"edge4\" class=\"edge\">\n",
       "<title>0&#45;&gt;4</title>\n",
       "<path fill=\"none\" stroke=\"black\" d=\"M270.08,-162.87C278.36,-154.18 287.74,-144.35 296.53,-135.14\"/>\n",
       "<polygon fill=\"black\" stroke=\"black\" points=\"298.69,-137.9 303.06,-128.25 293.62,-133.07 298.69,-137.9\"/>\n",
       "<text text-anchor=\"middle\" x=\"304.65\" y=\"-146.44\" font-family=\"Helvetica,sans-Serif\" font-size=\"14.00\">False</text>\n",
       "</g>\n",
       "<!-- 2 -->\n",
       "<g id=\"node3\" class=\"node\">\n",
       "<title>2</title>\n",
       "<path fill=\"none\" stroke=\"black\" d=\"M93.25,-38C93.25,-38 12,-38 12,-38 6,-38 0,-32 0,-26 0,-26 0,-12 0,-12 0,-6 6,0 12,0 12,0 93.25,0 93.25,0 99.25,0 105.25,-6 105.25,-12 105.25,-12 105.25,-26 105.25,-26 105.25,-32 99.25,-38 93.25,-38\"/>\n",
       "<text text-anchor=\"start\" x=\"11.75\" y=\"-20.7\" font-family=\"Helvetica,sans-Serif\" font-size=\"14.00\">samples = 21</text>\n",
       "<text text-anchor=\"start\" x=\"8\" y=\"-5.7\" font-family=\"Helvetica,sans-Serif\" font-size=\"14.00\">value = 11.571</text>\n",
       "</g>\n",
       "<!-- 1&#45;&gt;2 -->\n",
       "<g id=\"edge2\" class=\"edge\">\n",
       "<title>1&#45;&gt;2</title>\n",
       "<path fill=\"none\" stroke=\"black\" d=\"M127.59,-73.69C114.52,-64.33 99.81,-53.8 86.9,-44.55\"/>\n",
       "<polygon fill=\"black\" stroke=\"black\" points=\"89.46,-41.36 79.3,-38.39 85.39,-47.05 89.46,-41.36\"/>\n",
       "</g>\n",
       "<!-- 3 -->\n",
       "<g id=\"node4\" class=\"node\">\n",
       "<title>3</title>\n",
       "<path fill=\"none\" stroke=\"black\" d=\"M216.25,-38C216.25,-38 135,-38 135,-38 129,-38 123,-32 123,-26 123,-26 123,-12 123,-12 123,-6 129,0 135,0 135,0 216.25,0 216.25,0 222.25,0 228.25,-6 228.25,-12 228.25,-12 228.25,-26 228.25,-26 228.25,-32 222.25,-38 216.25,-38\"/>\n",
       "<text text-anchor=\"start\" x=\"134.75\" y=\"-20.7\" font-family=\"Helvetica,sans-Serif\" font-size=\"14.00\">samples = 84</text>\n",
       "<text text-anchor=\"start\" x=\"131\" y=\"-5.7\" font-family=\"Helvetica,sans-Serif\" font-size=\"14.00\">value = 13.952</text>\n",
       "</g>\n",
       "<!-- 1&#45;&gt;3 -->\n",
       "<g id=\"edge3\" class=\"edge\">\n",
       "<title>1&#45;&gt;3</title>\n",
       "<path fill=\"none\" stroke=\"black\" d=\"M167.49,-73.91C168.67,-66.07 169.98,-57.39 171.2,-49.33\"/>\n",
       "<polygon fill=\"black\" stroke=\"black\" points=\"174.8,-49.9 172.83,-39.49 167.88,-48.85 174.8,-49.9\"/>\n",
       "</g>\n",
       "<!-- 5 -->\n",
       "<g id=\"node6\" class=\"node\">\n",
       "<title>5</title>\n",
       "<path fill=\"none\" stroke=\"black\" d=\"M354.5,-38C354.5,-38 280.75,-38 280.75,-38 274.75,-38 268.75,-32 268.75,-26 268.75,-26 268.75,-12 268.75,-12 268.75,-6 274.75,0 280.75,0 280.75,0 354.5,0 354.5,0 360.5,0 366.5,-6 366.5,-12 366.5,-12 366.5,-26 366.5,-26 366.5,-32 360.5,-38 354.5,-38\"/>\n",
       "<text text-anchor=\"start\" x=\"276.75\" y=\"-20.7\" font-family=\"Helvetica,sans-Serif\" font-size=\"14.00\">samples = 12</text>\n",
       "<text text-anchor=\"start\" x=\"276.75\" y=\"-5.7\" font-family=\"Helvetica,sans-Serif\" font-size=\"14.00\">value = 18.25</text>\n",
       "</g>\n",
       "<!-- 4&#45;&gt;5 -->\n",
       "<g id=\"edge5\" class=\"edge\">\n",
       "<title>4&#45;&gt;5</title>\n",
       "<path fill=\"none\" stroke=\"black\" d=\"M325.08,-73.91C324,-66.07 322.8,-57.39 321.68,-49.33\"/>\n",
       "<polygon fill=\"black\" stroke=\"black\" points=\"325.02,-48.91 320.18,-39.49 318.09,-49.87 325.02,-48.91\"/>\n",
       "</g>\n",
       "<!-- 6 -->\n",
       "<g id=\"node7\" class=\"node\">\n",
       "<title>6</title>\n",
       "<path fill=\"none\" stroke=\"black\" d=\"M478.25,-38C478.25,-38 397,-38 397,-38 391,-38 385,-32 385,-26 385,-26 385,-12 385,-12 385,-6 391,0 397,0 397,0 478.25,0 478.25,0 484.25,0 490.25,-6 490.25,-12 490.25,-12 490.25,-26 490.25,-26 490.25,-32 484.25,-38 478.25,-38\"/>\n",
       "<text text-anchor=\"start\" x=\"396.75\" y=\"-20.7\" font-family=\"Helvetica,sans-Serif\" font-size=\"14.00\">samples = 83</text>\n",
       "<text text-anchor=\"start\" x=\"393\" y=\"-5.7\" font-family=\"Helvetica,sans-Serif\" font-size=\"14.00\">value = 16.096</text>\n",
       "</g>\n",
       "<!-- 4&#45;&gt;6 -->\n",
       "<g id=\"edge6\" class=\"edge\">\n",
       "<title>4&#45;&gt;6</title>\n",
       "<path fill=\"none\" stroke=\"black\" d=\"M364.01,-73.69C376.72,-64.42 391.01,-54 403.6,-44.82\"/>\n",
       "<polygon fill=\"black\" stroke=\"black\" points=\"405.4,-47.11 411.42,-38.39 401.27,-41.45 405.4,-47.11\"/>\n",
       "</g>\n",
       "</g>\n",
       "</svg>\n"
      ],
      "text/plain": [
       "<graphviz.sources.Source at 0x7fce7e2f6cd0>"
      ]
     },
     "execution_count": 12,
     "metadata": {},
     "output_type": "execute_result"
    }
   ],
   "source": [
    "# Use the graphviz library to plot the tree\n",
    "import graphviz \n",
    "dot_data = tree.export_graphviz(nurse_tree, out_file=None,\n",
    "                                feature_names=nurse_columns, impurity=False, \n",
    "                                rounded=True,  \n",
    "                                special_characters=True) \n",
    "graph = graphviz.Source(dot_data) \n",
    "graph.render(\"nurse\") \n",
    "graph"
   ]
  },
  {
   "cell_type": "code",
   "execution_count": 13,
   "id": "e1f1e297-d958-461c-b3cb-a9cb835ae600",
   "metadata": {
    "scrolled": true,
    "tags": []
   },
   "outputs": [],
   "source": [
    "# Get the predicted leaves\n",
    "leaf_mapping = nurse_tree.apply(X_train)\n",
    "# print(len(leaf_mapping))\n",
    "# print(leaf_mapping)\n",
    "# print([ leaf_mapping[i] for i in range(len(leaf_mapping)) ])"
   ]
  },
  {
   "cell_type": "code",
   "execution_count": 14,
   "id": "aa5f8346-eb55-4ab7-a62b-e0247b0c2f45",
   "metadata": {},
   "outputs": [
    {
     "name": "stdout",
     "output_type": "stream",
     "text": [
      "[2, 3, 5, 6]\n",
      "0.6\n"
     ]
    },
    {
     "data": {
      "text/plain": [
       "array([ 0.,  0., 13., 15.,  0., 18., 17.])"
      ]
     },
     "execution_count": 14,
     "metadata": {},
     "output_type": "execute_result"
    }
   ],
   "source": [
    "leaves = [i for i in range(nurse_tree.tree_.node_count) if nurse_tree.tree_.children_left[i] == -1 ]\n",
    "print(leaves)\n",
    "\n",
    "leaf_to_quantile = np.zeros( nurse_tree.tree_.node_count )\n",
    "\n",
    "print(baseline_nv_quantile)\n",
    "\n",
    "for ell in leaves:\n",
    "    ind = leaf_mapping == ell  # for every training obs check if it is in that leaf\n",
    "    y_ell = y_train[ind]\n",
    "    leaf_to_quantile[ell] = round(np.quantile(y_ell, baseline_nv_quantile))\n",
    "    \n",
    "leaf_to_quantile"
   ]
  },
  {
   "cell_type": "code",
   "execution_count": 15,
   "id": "ded6835b-c18e-4350-bd19-330edfd9d39d",
   "metadata": {},
   "outputs": [
    {
     "name": "stdout",
     "output_type": "stream",
     "text": [
      "Average in-sample cost (contextual newvendor): 40554.0\n"
     ]
    }
   ],
   "source": [
    "train_set_decisions = leaf_to_quantile[leaf_mapping]\n",
    "# print(train_set_decisions)\n",
    "\n",
    "train_set_cost = c_u * np.maximum(y_train - train_set_decisions, 0) + c_o * np.maximum(train_set_decisions - y_train, 0) + c_o * y_train\n",
    "avg_train_set_cost = train_set_cost.mean(axis = 0)\n",
    "print(\"Average in-sample cost (contextual newvendor):\", avg_train_set_cost)"
   ]
  },
  {
   "cell_type": "code",
   "execution_count": 16,
   "id": "8ca24510-7bde-447b-a6da-0180ad485840",
   "metadata": {},
   "outputs": [],
   "source": [
    "X_test = nurse_test[ nurse_columns ]\n",
    "X_test = np.asarray(X_test)\n",
    "\n",
    "y_test = nurse_test[ 'DailyED' ]\n",
    "y_test = np.asarray(y_test)"
   ]
  },
  {
   "cell_type": "code",
   "execution_count": 17,
   "id": "1c06bf28-7afc-4220-b0ab-d6f53110d18c",
   "metadata": {},
   "outputs": [
    {
     "name": "stdout",
     "output_type": "stream",
     "text": [
      "Average out-of-sample cost (contextual newvendor): 38772.0\n"
     ]
    }
   ],
   "source": [
    "test_set_leaves = nurse_tree.apply(X_test)\n",
    "# print(test_set_leaves)\n",
    "\n",
    "test_set_decisions = leaf_to_quantile[test_set_leaves]\n",
    "# print(test_set_decisions)\n",
    "\n",
    "test_set_cost = c_u * np.maximum(y_test - test_set_decisions, 0) + c_o * np.maximum(test_set_decisions - y_test, 0) + c_o * y_test\n",
    "avg_test_set_cost = test_set_cost.mean(axis = 0)\n",
    "print(\"Average out-of-sample cost (contextual newvendor):\", avg_test_set_cost)"
   ]
  }
 ],
 "metadata": {
  "kernelspec": {
   "display_name": "Python 3 (ipykernel)",
   "language": "python",
   "name": "python3"
  },
  "language_info": {
   "codemirror_mode": {
    "name": "ipython",
    "version": 3
   },
   "file_extension": ".py",
   "mimetype": "text/x-python",
   "name": "python",
   "nbconvert_exporter": "python",
   "pygments_lexer": "ipython3",
   "version": "3.10.12"
  }
 },
 "nbformat": 4,
 "nbformat_minor": 5
}
