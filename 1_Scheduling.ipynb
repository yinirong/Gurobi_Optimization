{
 "cells": [
  {
   "cell_type": "markdown",
   "id": "3da20f81-859e-464a-b2e4-84af79a9e18b",
   "metadata": {},
   "source": [
    "# Operating Room Scheduling"
   ]
  },
  {
   "cell_type": "markdown",
   "id": "32c8d380-8019-4067-91ac-fb6c632527ad",
   "metadata": {},
   "source": [
    "This was an assignment from my Optimization course. It tasked us to write and code an optimization model to minimize the total under-allocation of each medical department to operating rooms in a hospital."
   ]
  },
  {
   "cell_type": "code",
   "execution_count": 15,
   "id": "c0914a32-9be8-4165-a215-6a1ffe6ac6bd",
   "metadata": {},
   "outputs": [],
   "source": [
    "from gurobipy import *"
   ]
  },
  {
   "cell_type": "markdown",
   "id": "eb3317d3-2e0f-423e-96d8-87a0c0a7ceeb",
   "metadata": {},
   "source": [
    "## Part (a)"
   ]
  },
  {
   "cell_type": "markdown",
   "id": "98c68cb8-b50b-4ab6-884c-882dfdf8c3f5",
   "metadata": {},
   "source": [
    "Let `x_ijk` be a binary decision variable that is 1 if department `i` uses room `j` on day `k` or else 0, and `h_jk` be the number of hours for room `j` on day `k`."
   ]
  },
  {
   "cell_type": "markdown",
   "id": "78844dfa-2637-4674-8616-e8f3328fa7de",
   "metadata": {},
   "source": [
    "For department `i`, let `a_i` be the new total number of hours allocated each week, `t_i` be the target number of hours allocated each week, and `p_i` be the penalty or the total underallocation in number of hours."
   ]
  },
  {
   "cell_type": "markdown",
   "id": "8fc33cdd-2d54-4393-8cd4-506382080cfe",
   "metadata": {},
   "source": [
    "The optimization model can be written as follows:"
   ]
  },
  {
   "cell_type": "markdown",
   "id": "f01560d2-5b54-4e9b-8815-a973c5325409",
   "metadata": {
    "tags": []
   },
   "source": [
    "\\begin{align}\n",
    "\\underset{p_i}{\\text{min}} \\;\\; & \\sum_{i = 1}^6 p_i \\;/\\; t_i \\\\\n",
    "\\text{s.t.} \\;\\; \\text{New total number of hours:} \\\\\n",
    "& \\sum_{j=1}^5 \\sum_{k=1}^5 x_{ijk} * h_{jk} = a_{i}, \\quad i = 1,2,\\ldots,6, \\\\\n",
    "\\text{Room-day exclusive constraint:} \\\\\n",
    "& \\sum_{i=1}^6 x_{ijk} \\le 1, \\quad j = 1,2,\\ldots,5, \\;\\; k = 1,2,\\ldots,5, \\\\\n",
    "\\text{Underallocation constraint:} \\\\\n",
    "& p_{i} \\ge 0, \\quad i = 1,2,\\ldots,6, \\\\\n",
    "& p_{i} \\ge t_{i} - a_{i}, \\quad i = 1,2,\\ldots,6, \\\\\n",
    "\\text{Binary decision variables:} \\\\\n",
    "& x_{ijk} \\in \\{0,1\\} \\quad i = 1,\\ldots,6, \\;\\; j = 1,2,\\ldots,5, \\;\\; k = 1,2,\\ldots,5.\n",
    "\\end{align}"
   ]
  },
  {
   "cell_type": "markdown",
   "id": "05f65448-d5b4-47b7-9ffc-114db6438ce2",
   "metadata": {},
   "source": [
    "### Construct variables"
   ]
  },
  {
   "cell_type": "code",
   "execution_count": 16,
   "id": "06684527-895f-4e97-9d34-6d277e589c6e",
   "metadata": {},
   "outputs": [],
   "source": [
    "m = 6   # department\n",
    "n = 5   # room\n",
    "p = 5   # day\n",
    "\n",
    "# row is room index, column is day index\n",
    "hours_matrix = [[9,9,9,9,9],\n",
    "                [9,9,9,9,8],\n",
    "                [9,9,9,9,8],\n",
    "                [9,9,9,9,8],\n",
    "                [7.5,7.5,7.5,7.5,6.5]]\n",
    "\n",
    "# target hours for departments\n",
    "target_hours = [103.3, 9.0, 54.0, 15.8, 11.3, 20.3]"
   ]
  },
  {
   "cell_type": "code",
   "execution_count": 17,
   "id": "b70dcb3a-c410-4da6-9bbe-c599f9866b50",
   "metadata": {},
   "outputs": [],
   "source": [
    "# construct a 'blank' model\n",
    "mod = Model()\n",
    "\n",
    "# define decision variables\n",
    "x = mod.addVars(m, n, p, vtype = GRB.BINARY)\n",
    "new_hours = mod.addVars(m)\n",
    "penalty = mod.addVars(m)"
   ]
  },
  {
   "cell_type": "markdown",
   "id": "142d9ccd-7bf6-427c-be30-186f6a48f0ec",
   "metadata": {},
   "source": [
    "### Construct constraints"
   ]
  },
  {
   "cell_type": "code",
   "execution_count": 18,
   "id": "9d0aaa6d-1209-4e6b-bd6d-71e98d498f94",
   "metadata": {},
   "outputs": [],
   "source": [
    "# New hours for each department is the cross product of the hours matrix and the decision variable matrix\n",
    "for i in range(m):\n",
    "    mod.addConstr(new_hours[i] == sum(hours_matrix[j][k] * x[i,j,k] for j in range(n) for k in range(p))) "
   ]
  },
  {
   "cell_type": "code",
   "execution_count": 19,
   "id": "35a5d079-1755-4aef-b530-b611128fdfb4",
   "metadata": {},
   "outputs": [],
   "source": [
    "# Penalty for under allocation\n",
    "for i in range(m):\n",
    "    mod.addConstr(penalty[i] >= 0)\n",
    "    mod.addConstr(penalty[i] >= target_hours[i] - new_hours[i])"
   ]
  },
  {
   "cell_type": "code",
   "execution_count": 20,
   "id": "585b2cdf-8453-4f11-9a1b-1d4eb0b44586",
   "metadata": {},
   "outputs": [],
   "source": [
    "# Exclusive: at most 1 department can be assigned to room j on day k\n",
    "for j in range(n):\n",
    "    for k in range(p):\n",
    "        mod.addConstr(sum(x[i,j,k] for i in range(m)) <= 1)"
   ]
  },
  {
   "cell_type": "markdown",
   "id": "41db8095-bf56-4681-92f1-ea92bebba04a",
   "metadata": {},
   "source": [
    "### Create the objective function, and set it to be minimized"
   ]
  },
  {
   "cell_type": "code",
   "execution_count": 21,
   "id": "3319d7b8-4847-4378-ae60-128f8f48f775",
   "metadata": {},
   "outputs": [],
   "source": [
    "mod.setObjective(sum(penalty[i] / target_hours[i] for i in range(m)), GRB.MINIMIZE)"
   ]
  },
  {
   "cell_type": "code",
   "execution_count": 22,
   "id": "e586d032-7b11-4232-963a-94b3999e37b1",
   "metadata": {},
   "outputs": [
    {
     "name": "stdout",
     "output_type": "stream",
     "text": [
      "Gurobi Optimizer version 10.0.0 build v10.0.0rc2 (mac64[x86])\n",
      "\n",
      "CPU model: Intel(R) Core(TM) i7-9750H CPU @ 2.60GHz\n",
      "Thread count: 6 physical cores, 12 logical processors, using up to 12 threads\n",
      "\n",
      "Optimize a model with 43 rows, 162 columns and 324 nonzeros\n",
      "Model fingerprint: 0x800a5cc2\n",
      "Variable types: 12 continuous, 150 integer (150 binary)\n",
      "Coefficient statistics:\n",
      "  Matrix range     [1e+00, 9e+00]\n",
      "  Objective range  [1e-02, 1e-01]\n",
      "  Bounds range     [1e+00, 1e+00]\n",
      "  RHS range        [1e+00, 1e+02]\n",
      "Found heuristic solution: objective 6.0000000\n",
      "Presolve removed 12 rows and 6 columns\n",
      "Presolve time: 0.00s\n",
      "Presolved: 31 rows, 156 columns, 306 nonzeros\n",
      "Variable types: 0 continuous, 156 integer (150 binary)\n",
      "Found heuristic solution: objective 5.0000000\n",
      "\n",
      "Root relaxation: objective 1.936108e-03, 51 iterations, 0.00 seconds (0.00 work units)\n",
      "\n",
      "    Nodes    |    Current Node    |     Objective Bounds      |     Work\n",
      " Expl Unexpl |  Obj  Depth IntInf | Incumbent    BestBd   Gap | It/Node Time\n",
      "\n",
      "     0     0    0.00194    0    8    5.00000    0.00194   100%     -    0s\n",
      "H    0     0                       0.2222222    0.00194  99.1%     -    0s\n",
      "H    0     0                       0.1213832    0.00194  98.4%     -    0s\n",
      "     0     0    0.00194    0   13    0.12138    0.00194  98.4%     -    0s\n",
      "H    0     0                       0.1024434    0.02807  72.6%     -    0s\n",
      "H    0     0                       0.0883439    0.02807  68.2%     -    0s\n",
      "     0     0    0.03001    0   13    0.08834    0.03001  66.0%     -    0s\n",
      "H    0     0                       0.0513069    0.03001  41.5%     -    0s\n",
      "     0     0    0.04937    0    8    0.05131    0.04937  3.77%     -    0s\n",
      "     0     0    0.04937    0    8    0.05131    0.04937  3.77%     -    0s\n",
      "     0     0     cutoff    0         0.05131    0.05131  0.00%     -    0s\n",
      "\n",
      "Cutting planes:\n",
      "  Cover: 2\n",
      "  MIR: 2\n",
      "\n",
      "Explored 1 nodes (128 simplex iterations) in 0.03 seconds (0.00 work units)\n",
      "Thread count was 12 (of 12 available processors)\n",
      "\n",
      "Solution count 7: 0.0513069 0.0883439 0.102443 ... 6\n",
      "\n",
      "Optimal solution found (tolerance 1.00e-04)\n",
      "Best objective 5.130687318490e-02, best bound 5.130687318490e-02, gap 0.0000%\n"
     ]
    }
   ],
   "source": [
    "mod.update()\n",
    "\n",
    "mod.optimize()"
   ]
  },
  {
   "cell_type": "code",
   "execution_count": 23,
   "id": "7469d0bd-39a2-4f4b-9584-5f32afb512df",
   "metadata": {},
   "outputs": [
    {
     "name": "stdout",
     "output_type": "stream",
     "text": [
      "Minimal penalty: 0.05130687318489838\n"
     ]
    }
   ],
   "source": [
    "opt_val = mod.objval\n",
    "print(\"Minimal penalty:\", opt_val)"
   ]
  },
  {
   "cell_type": "markdown",
   "id": "8d6358a6-1468-4311-bd90-d7711cf8592d",
   "metadata": {},
   "source": [
    "#### The schedule can be seen below:"
   ]
  },
  {
   "cell_type": "code",
   "execution_count": 24,
   "id": "92933c53-7b6c-4c26-a36b-2bf94e211df7",
   "metadata": {},
   "outputs": [
    {
     "name": "stdout",
     "output_type": "stream",
     "text": [
      "Department 0\n",
      "   R1  R2  R3  R4  R5\n",
      "M   1   1   0   1   0\n",
      "T   0   1   1   0   0\n",
      "W   0   1   0   0   0\n",
      "T   1   1   1   0   0\n",
      "F   1   0   0   1   0\n",
      "Department 1\n",
      "   R1  R2  R3  R4  R5\n",
      "M   0   0   0   0   0\n",
      "T   0   0   0   0   0\n",
      "W   0   0   1   0   0\n",
      "T   0   0   0   0   0\n",
      "F   0   0   0   0   0\n",
      "Department 2\n",
      "   R1  R2  R3  R4  R5\n",
      "M   0   0   1   0   0\n",
      "T   1   0   0   1   0\n",
      "W   1   0   0   1   0\n",
      "T   0   0   0   1   0\n",
      "F   0   0   0   0   0\n",
      "Department 3\n",
      "   R1  R2  R3  R4  R5\n",
      "M   0   0   0   0   0\n",
      "T   0   0   0   0   0\n",
      "W   0   0   0   0   0\n",
      "T   0   0   0   0   0\n",
      "F   0   1   1   0   0\n",
      "Department 4\n",
      "   R1  R2  R3  R4  R5\n",
      "M   0   0   0   0   1\n",
      "T   0   0   0   0   0\n",
      "W   0   0   0   0   0\n",
      "T   0   0   0   0   0\n",
      "F   0   0   0   0   1\n",
      "Department 5\n",
      "   R1  R2  R3  R4  R5\n",
      "M   0   0   0   0   0\n",
      "T   0   0   0   0   1\n",
      "W   0   0   0   0   1\n",
      "T   0   0   0   0   1\n",
      "F   0   0   0   0   0\n"
     ]
    }
   ],
   "source": [
    "for i in range(m):\n",
    "    print(f\"Department {i}\")\n",
    "    print(f\"   R1  R2  R3  R4  R5\")\n",
    "    for k in range(p):\n",
    "        \n",
    "        if k == 0:\n",
    "            output = \"M\"\n",
    "        elif k == 1:\n",
    "            output = \"T\"\n",
    "        elif k == 2:\n",
    "            output = \"W\" \n",
    "        elif k == 3:\n",
    "            output = \"T\"\n",
    "        elif k == 4:\n",
    "            output = \"F\"\n",
    "            \n",
    "        for j in range(n):\n",
    "            output += f\"   {int(x[i,j,k].x)}\"\n",
    "        print(output)"
   ]
  },
  {
   "cell_type": "markdown",
   "id": "98e5ac3f-636b-4368-9e76-7c553ec16639",
   "metadata": {},
   "source": [
    "## Part (b)"
   ]
  },
  {
   "cell_type": "markdown",
   "id": "3b193ccd-aeb4-409a-9592-1098f89fdf00",
   "metadata": {},
   "source": [
    "The hospital CEO inquired a schedule so that no department is split between two or more floors on the same day. \n",
    "\n",
    "Let `v_ikl` be a binary decision variable that is 1 if department `i` uses room(s) on floor `l` on day `k` or else 0."
   ]
  },
  {
   "cell_type": "markdown",
   "id": "c76bd153-6fef-415c-b4c3-bee86415234c",
   "metadata": {},
   "source": [
    "The optimization model will have the following additional constraints:"
   ]
  },
  {
   "cell_type": "markdown",
   "id": "b61b41b8-2d21-48e1-b5bc-a097375cf271",
   "metadata": {
    "tags": []
   },
   "source": [
    "\\begin{align}\n",
    "\\text{Relationship between rooms and floors:} \\\\\n",
    "& 2 * v_{ik1} >= x_{i1k} + x_{i2k}, \\quad i = 1,2,\\ldots,6, \\;\\; k = 1,2,\\ldots,5,\\\\\n",
    "& 2 * v_{ik2} >= x_{i3k} + x_{i4k}, \\quad i = 1,2,\\ldots,6, \\;\\; k = 1,2,\\ldots,5,\\\\\n",
    "& v_{ik3} >= x_{i5k}, \\quad i = 1,2,\\ldots,6, \\;\\; k = 1,2,\\ldots,5,\\\\\n",
    "\\text{Department-day exclusive constraint:} \\\\\n",
    "& \\sum_{l=1}^3 v_{ikl} \\le 1, \\quad i = 1,2,\\ldots,6, \\;\\; k = 1,2,\\ldots,5, \\\\\n",
    "\\text{Binary decision variables:} \\\\\n",
    "& v_{ikl} \\in \\{0,1\\} \\quad i = 1,\\ldots,6, \\;\\; k = 1,2,\\ldots,5, \\;\\; l = 1,2,3.\n",
    "\\end{align}"
   ]
  },
  {
   "cell_type": "markdown",
   "id": "07d0aaf0-e5b6-454c-8e37-036dcc184b7e",
   "metadata": {},
   "source": [
    "### Construct variables"
   ]
  },
  {
   "cell_type": "code",
   "execution_count": 25,
   "id": "d1608c16-1d11-4b4d-8f6c-32fccc5f28ff",
   "metadata": {},
   "outputs": [],
   "source": [
    "q = 3 # floor\n",
    "v = mod.addVars(m, p, q, vtype = GRB.BINARY)"
   ]
  },
  {
   "cell_type": "markdown",
   "id": "2e4eab87-1137-4879-9ebb-9cd18992f60f",
   "metadata": {},
   "source": [
    "### Construct constraints"
   ]
  },
  {
   "cell_type": "code",
   "execution_count": 26,
   "id": "6894250f-a55b-4a9d-9e9e-93a5459dbd5e",
   "metadata": {},
   "outputs": [],
   "source": [
    "# Relationship between floor and rooms\n",
    "\n",
    "for i in range(m):\n",
    "    for k in range(p):\n",
    "        mod.addConstr(2 * v[i,k,0] >= x[i,0,k] + x[i,1,k])\n",
    "        mod.addConstr(2 * v[i,k,1] >= x[i,2,k] + x[i,3,k])\n",
    "        mod.addConstr(v[i,k,2] >= x[i,4,k])\n",
    "        \n",
    "        \n",
    "# Exclusive: at most 1 floor assigned to the same department on the same day\n",
    "for i in range(m):\n",
    "    for k in range(p):\n",
    "        mod.addConstr(sum(v[i,k,l] for l in range(q)) <= 1)"
   ]
  },
  {
   "cell_type": "markdown",
   "id": "1d8d4a0c-3144-4717-b147-f3925f209969",
   "metadata": {},
   "source": [
    "### Create the objective function, and set it to be minimized"
   ]
  },
  {
   "cell_type": "code",
   "execution_count": 27,
   "id": "722a9df2-9e1f-4928-8df9-b19cd240474d",
   "metadata": {},
   "outputs": [],
   "source": [
    "mod.setObjective(sum(penalty[i] / target_hours[i] for i in range(m)), GRB.MINIMIZE)"
   ]
  },
  {
   "cell_type": "code",
   "execution_count": 28,
   "id": "ebfe73c5-9fb8-4221-842d-c76f0e724af6",
   "metadata": {},
   "outputs": [
    {
     "name": "stdout",
     "output_type": "stream",
     "text": [
      "Gurobi Optimizer version 10.0.0 build v10.0.0rc2 (mac64[x86])\n",
      "\n",
      "CPU model: Intel(R) Core(TM) i7-9750H CPU @ 2.60GHz\n",
      "Thread count: 6 physical cores, 12 logical processors, using up to 12 threads\n",
      "\n",
      "Optimize a model with 163 rows, 252 columns and 654 nonzeros\n",
      "Model fingerprint: 0xf954a02b\n",
      "Variable types: 12 continuous, 240 integer (240 binary)\n",
      "Coefficient statistics:\n",
      "  Matrix range     [1e+00, 9e+00]\n",
      "  Objective range  [1e-02, 1e-01]\n",
      "  Bounds range     [1e+00, 1e+00]\n",
      "  RHS range        [1e+00, 1e+02]\n",
      "\n",
      "MIP start from previous solve did not produce a new incumbent solution\n",
      "\n",
      "Found heuristic solution: objective 6.0000000\n",
      "Presolve removed 72 rows and 66 columns\n",
      "Presolve time: 0.00s\n",
      "Presolved: 91 rows, 186 columns, 516 nonzeros\n",
      "Variable types: 0 continuous, 186 integer (180 binary)\n",
      "Found heuristic solution: objective 5.9141123\n",
      "\n",
      "Root relaxation: objective 1.384318e-01, 106 iterations, 0.00 seconds (0.00 work units)\n",
      "\n",
      "    Nodes    |    Current Node    |     Objective Bounds      |     Work\n",
      " Expl Unexpl |  Obj  Depth IntInf | Incumbent    BestBd   Gap | It/Node Time\n",
      "\n",
      "     0     0    0.13843    0    3    5.91411    0.13843  97.7%     -    0s\n",
      "H    0     0                       0.2445440    0.13843  43.4%     -    0s\n",
      "H    0     0                       0.2125058    0.13843  34.9%     -    0s\n",
      "H    0     0                       0.1987452    0.13843  30.3%     -    0s\n",
      "H    0     0                       0.1944086    0.13843  28.8%     -    0s\n",
      "H    0     0                       0.1939873    0.13843  28.6%     -    0s\n",
      "H    0     0                       0.1481123    0.13843  6.54%     -    0s\n",
      "H    0     0                       0.1384318    0.13843  0.00%     -    0s\n",
      "     0     0    0.13843    0    7    0.13843    0.13843  0.00%     -    0s\n",
      "\n",
      "Cutting planes:\n",
      "  Cover: 3\n",
      "  MIR: 1\n",
      "\n",
      "Explored 1 nodes (267 simplex iterations) in 0.03 seconds (0.00 work units)\n",
      "Thread count was 12 (of 12 available processors)\n",
      "\n",
      "Solution count 9: 0.138432 0.148112 0.193987 ... 6\n",
      "\n",
      "Optimal solution found (tolerance 1.00e-04)\n",
      "Best objective 1.384317521781e-01, best bound 1.384317521781e-01, gap 0.0000%\n"
     ]
    }
   ],
   "source": [
    "mod.update()\n",
    "\n",
    "mod.optimize()"
   ]
  },
  {
   "cell_type": "code",
   "execution_count": 29,
   "id": "b9c2577c-d1ff-47b3-9349-516bb18ff098",
   "metadata": {},
   "outputs": [
    {
     "name": "stdout",
     "output_type": "stream",
     "text": [
      "Minimal penalty: 0.13843175217812198\n"
     ]
    }
   ],
   "source": [
    "opt_val = mod.objval\n",
    "print(\"Minimal penalty:\", opt_val)"
   ]
  },
  {
   "cell_type": "markdown",
   "id": "ba9da0a2-dd1d-4613-b561-80078b6d3352",
   "metadata": {},
   "source": [
    "#### The schedule can be seen below:"
   ]
  },
  {
   "cell_type": "code",
   "execution_count": 30,
   "id": "eb32f2e2-67d4-4e3d-a8f8-1715488ec2e0",
   "metadata": {},
   "outputs": [
    {
     "name": "stdout",
     "output_type": "stream",
     "text": [
      "Department 0\n",
      "   R1  R2  R3  R4  R5\n",
      "M   0   0   1   1   0\n",
      "T   0   0   1   1   0\n",
      "W   0   0   1   1   0\n",
      "T   0   0   1   1   0\n",
      "F   1   1   0   0   0\n",
      "Department 1\n",
      "   R1  R2  R3  R4  R5\n",
      "M   0   0   0   0   0\n",
      "T   0   0   0   0   0\n",
      "W   0   1   0   0   0\n",
      "T   0   0   0   0   0\n",
      "F   0   0   0   0   0\n",
      "Department 2\n",
      "   R1  R2  R3  R4  R5\n",
      "M   0   0   0   0   1\n",
      "T   0   1   0   0   0\n",
      "W   0   0   0   0   1\n",
      "T   1   1   0   0   0\n",
      "F   0   0   1   1   0\n",
      "Department 3\n",
      "   R1  R2  R3  R4  R5\n",
      "M   0   0   0   0   0\n",
      "T   0   0   0   0   1\n",
      "W   1   0   0   0   0\n",
      "T   0   0   0   0   0\n",
      "F   0   0   0   0   0\n",
      "Department 4\n",
      "   R1  R2  R3  R4  R5\n",
      "M   0   1   0   0   0\n",
      "T   0   0   0   0   0\n",
      "W   0   0   0   0   0\n",
      "T   0   0   0   0   0\n",
      "F   0   0   0   0   1\n",
      "Department 5\n",
      "   R1  R2  R3  R4  R5\n",
      "M   1   0   0   0   0\n",
      "T   1   0   0   0   0\n",
      "W   0   0   0   0   0\n",
      "T   0   0   0   0   1\n",
      "F   0   0   0   0   0\n"
     ]
    }
   ],
   "source": [
    "for i in range(m):\n",
    "    print(f\"Department {i}\")\n",
    "    print(f\"   R1  R2  R3  R4  R5\")\n",
    "    for k in range(p):\n",
    "        \n",
    "        if k == 0:\n",
    "            output = \"M\"\n",
    "        elif k == 1:\n",
    "            output = \"T\"\n",
    "        elif k == 2:\n",
    "            output = \"W\" \n",
    "        elif k == 3:\n",
    "            output = \"T\"\n",
    "        elif k == 4:\n",
    "            output = \"F\"\n",
    "            \n",
    "        for j in range(n):\n",
    "            output += f\"   {int(x[i,j,k].x)}\"\n",
    "        print(output)"
   ]
  }
 ],
 "metadata": {
  "kernelspec": {
   "display_name": "Python 3 (ipykernel)",
   "language": "python",
   "name": "python3"
  },
  "language_info": {
   "codemirror_mode": {
    "name": "ipython",
    "version": 3
   },
   "file_extension": ".py",
   "mimetype": "text/x-python",
   "name": "python",
   "nbconvert_exporter": "python",
   "pygments_lexer": "ipython3",
   "version": "3.10.12"
  }
 },
 "nbformat": 4,
 "nbformat_minor": 5
}
